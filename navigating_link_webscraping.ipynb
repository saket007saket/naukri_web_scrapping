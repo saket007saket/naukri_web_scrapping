{
 "cells": [
  {
   "cell_type": "code",
   "execution_count": 4,
   "metadata": {},
   "outputs": [],
   "source": [
    "import time\n",
    "from selenium import webdriver\n",
    "import pandas as pd"
   ]
  },
  {
   "cell_type": "code",
   "execution_count": 5,
   "metadata": {},
   "outputs": [],
   "source": [
    "PATH = \"C:\\Program Files (x86)\\chromedriver.exe\""
   ]
  },
  {
   "cell_type": "code",
   "execution_count": 6,
   "metadata": {},
   "outputs": [],
   "source": [
    "driver = webdriver.Chrome(PATH)"
   ]
  },
  {
   "cell_type": "markdown",
   "metadata": {},
   "source": [
    "# Scraping all the links of navigating pages"
   ]
  },
  {
   "cell_type": "code",
   "execution_count": 48,
   "metadata": {},
   "outputs": [],
   "source": [
    "'''jobs={\"link\":[]}'''"
   ]
  },
  {
   "cell_type": "code",
   "execution_count": 49,
   "metadata": {},
   "outputs": [],
   "source": [
    "'''def get_url(position):\n",
    "  template =\"https://www.naukri.com/\"\n",
    "  pos=''\n",
    "  #position='Data Scientist'\n",
    "  p=position.lower()\n",
    "  p=p.split()\n",
    "  for i in p:\n",
    "    pos= pos+i+'-'\n",
    "  pos=pos+'jobs'+'-'\n",
    "\n",
    "  template=template+pos+'?'+'k={}'\n",
    "  #url=template\n",
    "  url=template.format(position.lower())\n",
    "  url1=url.split('?')\n",
    "  url_final=url1[0]+'{}?'+url1[1]\n",
    "  return url_final'''"
   ]
  },
  {
   "cell_type": "code",
   "execution_count": 50,
   "metadata": {},
   "outputs": [],
   "source": [
    "'''url = get_url('Data Scientist')\n",
    "url'''"
   ]
  },
  {
   "cell_type": "code",
   "execution_count": 52,
   "metadata": {},
   "outputs": [],
   "source": [
    "'''for i in range(153,728):\n",
    "    driver.get(url.format(i))\n",
    "    time.sleep(3)\n",
    "    lst=driver.find_elements_by_css_selector(\".jobTuple.bgWhite.br4.mb-8\")\n",
    "    for job in lst:\n",
    "        driver.implicitly_wait(5)\n",
    "        link=job.find_element_by_css_selector('a.title.fw500.ellipsis').get_attribute('href')\n",
    "        jobs['link'].append(link)'''"
   ]
  },
  {
   "cell_type": "code",
   "execution_count": 53,
   "metadata": {},
   "outputs": [
    {
     "data": {
      "text/html": [
       "<div>\n",
       "<style scoped>\n",
       "    .dataframe tbody tr th:only-of-type {\n",
       "        vertical-align: middle;\n",
       "    }\n",
       "\n",
       "    .dataframe tbody tr th {\n",
       "        vertical-align: top;\n",
       "    }\n",
       "\n",
       "    .dataframe thead th {\n",
       "        text-align: right;\n",
       "    }\n",
       "</style>\n",
       "<table border=\"1\" class=\"dataframe\">\n",
       "  <thead>\n",
       "    <tr style=\"text-align: right;\">\n",
       "      <th></th>\n",
       "      <th>link</th>\n",
       "    </tr>\n",
       "  </thead>\n",
       "  <tbody>\n",
       "    <tr>\n",
       "      <th>0</th>\n",
       "      <td>https://www.naukri.com/job-listings-big-data-d...</td>\n",
       "    </tr>\n",
       "    <tr>\n",
       "      <th>1</th>\n",
       "      <td>https://www.naukri.com/job-listings-big-data-d...</td>\n",
       "    </tr>\n",
       "    <tr>\n",
       "      <th>2</th>\n",
       "      <td>https://www.naukri.com/job-listings-aws-data-e...</td>\n",
       "    </tr>\n",
       "    <tr>\n",
       "      <th>3</th>\n",
       "      <td>https://www.naukri.com/job-listings-software-e...</td>\n",
       "    </tr>\n",
       "    <tr>\n",
       "      <th>4</th>\n",
       "      <td>https://www.naukri.com/job-listings-data-engin...</td>\n",
       "    </tr>\n",
       "    <tr>\n",
       "      <th>...</th>\n",
       "      <td>...</td>\n",
       "    </tr>\n",
       "    <tr>\n",
       "      <th>11495</th>\n",
       "      <td>https://www.naukri.com/job-listings-ml-enginee...</td>\n",
       "    </tr>\n",
       "    <tr>\n",
       "      <th>11496</th>\n",
       "      <td>https://www.naukri.com/job-listings-iot-soluti...</td>\n",
       "    </tr>\n",
       "    <tr>\n",
       "      <th>11497</th>\n",
       "      <td>https://www.naukri.com/job-listings-product-ma...</td>\n",
       "    </tr>\n",
       "    <tr>\n",
       "      <th>11498</th>\n",
       "      <td>https://www.naukri.com/job-listings-profile-de...</td>\n",
       "    </tr>\n",
       "    <tr>\n",
       "      <th>11499</th>\n",
       "      <td>https://www.naukri.com/job-listings-assistant-...</td>\n",
       "    </tr>\n",
       "  </tbody>\n",
       "</table>\n",
       "<p>11500 rows × 1 columns</p>\n",
       "</div>"
      ],
      "text/plain": [
       "                                                    link\n",
       "0      https://www.naukri.com/job-listings-big-data-d...\n",
       "1      https://www.naukri.com/job-listings-big-data-d...\n",
       "2      https://www.naukri.com/job-listings-aws-data-e...\n",
       "3      https://www.naukri.com/job-listings-software-e...\n",
       "4      https://www.naukri.com/job-listings-data-engin...\n",
       "...                                                  ...\n",
       "11495  https://www.naukri.com/job-listings-ml-enginee...\n",
       "11496  https://www.naukri.com/job-listings-iot-soluti...\n",
       "11497  https://www.naukri.com/job-listings-product-ma...\n",
       "11498  https://www.naukri.com/job-listings-profile-de...\n",
       "11499  https://www.naukri.com/job-listings-assistant-...\n",
       "\n",
       "[11500 rows x 1 columns]"
      ]
     },
     "execution_count": 53,
     "metadata": {},
     "output_type": "execute_result"
    }
   ],
   "source": [
    "'''df_link=pd.DataFrame(jobs)\n",
    "df_link'''"
   ]
  },
  {
   "cell_type": "code",
   "execution_count": 54,
   "metadata": {},
   "outputs": [],
   "source": [
    "'''df_link.to_csv('link_df2.csv',index=False)'''"
   ]
  },
  {
   "cell_type": "code",
   "execution_count": 56,
   "metadata": {},
   "outputs": [],
   "source": [
    "'''df1=pd.read_csv(r\"C:\\Users\\sak\\Documents\\navgation_link_df\\link_df1.csv\")\n",
    "df2=pd.read_csv(r\"C:\\Users\\sak\\Documents\\navgation_link_df\\link_df2.csv\")\n",
    "frames=[df1,df2]\n",
    "navigation_link_data_frame=pd.concat(frames)\n",
    "navigation_link_data_frame.to_csv('navigation_link_df.csv',index=False)'''"
   ]
  },
  {
   "cell_type": "markdown",
   "metadata": {},
   "source": [
    "# Pulling of description form navigating pages"
   ]
  },
  {
   "cell_type": "code",
   "execution_count": 4,
   "metadata": {},
   "outputs": [],
   "source": [
    "link_for_description = pd.read_csv(r\"C:\\Users\\sak\\Documents\\navgation_link_df\\navigation_link_df.csv\",nrows=75)"
   ]
  },
  {
   "cell_type": "code",
   "execution_count": 5,
   "metadata": {},
   "outputs": [
    {
     "data": {
      "text/plain": [
       "'https://www.naukri.com/job-listings-data-scientist-1-acko-general-bengaluru-bangalore-2-to-7-years-271020501045?src=jobsearchDesk&sid=16050762411329938&xp=15&px=4'"
      ]
     },
     "execution_count": 5,
     "metadata": {},
     "output_type": "execute_result"
    }
   ],
   "source": [
    "link_for_description['link'][74]"
   ]
  },
  {
   "cell_type": "code",
   "execution_count": 6,
   "metadata": {},
   "outputs": [],
   "source": [
    "Description=[]\n",
    "Roles=[]\n",
    "Education=[]"
   ]
  },
  {
   "cell_type": "code",
   "execution_count": 7,
   "metadata": {},
   "outputs": [],
   "source": [
    "for lnk in link_for_description['link']:\n",
    "    driver.get(lnk)\n",
    "    time.sleep(3)\n",
    "    lst=driver.find_elements_by_css_selector(\"section.job-desc\")\n",
    "    for desc in lst:\n",
    "        description=desc.find_element_by_css_selector(\"div.dang-inner-html\").text\n",
    "        #roles=desc.find_element_by_css_selector(\"div.other-details\").text\n",
    "        #education=desc.find_element_by_css_selector(\"div.education\").text\n",
    "        Description.append(description)\n",
    "        #Roles.append(roles)\n",
    "        #Education.append(education)\n"
   ]
  },
  {
   "cell_type": "code",
   "execution_count": 8,
   "metadata": {},
   "outputs": [
    {
     "data": {
      "text/html": [
       "<div>\n",
       "<style scoped>\n",
       "    .dataframe tbody tr th:only-of-type {\n",
       "        vertical-align: middle;\n",
       "    }\n",
       "\n",
       "    .dataframe tbody tr th {\n",
       "        vertical-align: top;\n",
       "    }\n",
       "\n",
       "    .dataframe thead th {\n",
       "        text-align: right;\n",
       "    }\n",
       "</style>\n",
       "<table border=\"1\" class=\"dataframe\">\n",
       "  <thead>\n",
       "    <tr style=\"text-align: right;\">\n",
       "      <th></th>\n",
       "      <th>Description</th>\n",
       "    </tr>\n",
       "  </thead>\n",
       "  <tbody>\n",
       "    <tr>\n",
       "      <th>0</th>\n",
       "      <td>Dear Candidate\\n\\nSchedule a Telephonic Interv...</td>\n",
       "    </tr>\n",
       "    <tr>\n",
       "      <th>1</th>\n",
       "      <td>Roles and Responsibilities\\nIntroduction\\nThe ...</td>\n",
       "    </tr>\n",
       "    <tr>\n",
       "      <th>2</th>\n",
       "      <td>Job Description :\\n- We are looking for a rese...</td>\n",
       "    </tr>\n",
       "    <tr>\n",
       "      <th>3</th>\n",
       "      <td>Roles and Responsibilities\\nJob Description :\\...</td>\n",
       "    </tr>\n",
       "    <tr>\n",
       "      <th>4</th>\n",
       "      <td>Roles and Responsibilities\\nUnderstand busines...</td>\n",
       "    </tr>\n",
       "    <tr>\n",
       "      <th>...</th>\n",
       "      <td>...</td>\n",
       "    </tr>\n",
       "    <tr>\n",
       "      <th>66</th>\n",
       "      <td>Context:\\nvLogix Tech is a Software Product an...</td>\n",
       "    </tr>\n",
       "    <tr>\n",
       "      <th>67</th>\n",
       "      <td>Our client is a global Financial Services grou...</td>\n",
       "    </tr>\n",
       "    <tr>\n",
       "      <th>68</th>\n",
       "      <td>Roles and responsibilities \\nJob description\\n...</td>\n",
       "    </tr>\n",
       "    <tr>\n",
       "      <th>69</th>\n",
       "      <td>Roles and Responsibilities\\nInteract with vari...</td>\n",
       "    </tr>\n",
       "    <tr>\n",
       "      <th>70</th>\n",
       "      <td>Role and Responsibilities:\\nWork closely with ...</td>\n",
       "    </tr>\n",
       "  </tbody>\n",
       "</table>\n",
       "<p>71 rows × 1 columns</p>\n",
       "</div>"
      ],
      "text/plain": [
       "                                          Description\n",
       "0   Dear Candidate\\n\\nSchedule a Telephonic Interv...\n",
       "1   Roles and Responsibilities\\nIntroduction\\nThe ...\n",
       "2   Job Description :\\n- We are looking for a rese...\n",
       "3   Roles and Responsibilities\\nJob Description :\\...\n",
       "4   Roles and Responsibilities\\nUnderstand busines...\n",
       "..                                                ...\n",
       "66  Context:\\nvLogix Tech is a Software Product an...\n",
       "67  Our client is a global Financial Services grou...\n",
       "68  Roles and responsibilities \\nJob description\\n...\n",
       "69  Roles and Responsibilities\\nInteract with vari...\n",
       "70  Role and Responsibilities:\\nWork closely with ...\n",
       "\n",
       "[71 rows x 1 columns]"
      ]
     },
     "execution_count": 8,
     "metadata": {},
     "output_type": "execute_result"
    }
   ],
   "source": [
    "#df = pd.DataFrame(list(zip(lst, lst2)),  columns =['Name', 'val']) \n",
    "description_df=pd.DataFrame(list(zip(Description)),columns=['Description'])\n",
    "description_df\n"
   ]
  },
  {
   "cell_type": "code",
   "execution_count": 9,
   "metadata": {},
   "outputs": [],
   "source": [
    "'''description_df.to_csv('df_description.csv',index=False)'''"
   ]
  },
  {
   "cell_type": "code",
   "execution_count": 10,
   "metadata": {},
   "outputs": [
    {
     "data": {
      "text/plain": [
       "(71, 1)"
      ]
     },
     "execution_count": 10,
     "metadata": {},
     "output_type": "execute_result"
    }
   ],
   "source": [
    "df=pd.read_csv(r\"C:\\Users\\sak\\Documents\\df_description.csv\")\n",
    "df.shape"
   ]
  },
  {
   "cell_type": "code",
   "execution_count": 11,
   "metadata": {},
   "outputs": [
    {
     "data": {
      "text/plain": [
       "'Role and Responsibilities:\\nWork closely with Business teams & Product Managers to identify opportunities and serve as an ambassador for data science\\nTranslates complex functional and technical requirements into detailed architecture, design, and high performing software and applications.\\nWorks with peer developers to make sure that all data solutions are consistent and ensures all automated processes to preserve data by managing the alignment of data availability and integration processes\\nEligibility Criteria:\\n2 years of experience in the field of statistics, data mining and machine learning\\nQualifications:\\nBTech/BE Premier institute like IITs/BITS/NITs\\nExperience in e-commerce/Online Internet companies\\nSkills:\\nExpert-level understanding of the underlying theory of Machine Learning.\\nYou have superior knowledge of statistical analysis methods, such as input selection, logistic and standard regression, random forests, etc.\\nTaking end-to-end ownership of problem domains and continuously improving upon quantitative solutions\\nDemonstrated ability to facilitate and work with minimal direction, with the proven ability to coordinate complex activities\\nAnalytical thought leadership and stay current on developments in data mining and the application of data science'"
      ]
     },
     "execution_count": 11,
     "metadata": {},
     "output_type": "execute_result"
    }
   ],
   "source": [
    "df.Description[70]"
   ]
  },
  {
   "cell_type": "markdown",
   "metadata": {},
   "source": [
    "# Pulling of Roles and Education from navigating pages "
   ]
  },
  {
   "cell_type": "code",
   "execution_count": 7,
   "metadata": {},
   "outputs": [],
   "source": [
    "link_for_edu_roles = pd.read_csv(r\"C:\\Users\\sak\\Documents\\navgation_link_df\\navigation_link_df.csv\")"
   ]
  },
  {
   "cell_type": "code",
   "execution_count": 8,
   "metadata": {},
   "outputs": [
    {
     "data": {
      "text/html": [
       "<div>\n",
       "<style scoped>\n",
       "    .dataframe tbody tr th:only-of-type {\n",
       "        vertical-align: middle;\n",
       "    }\n",
       "\n",
       "    .dataframe tbody tr th {\n",
       "        vertical-align: top;\n",
       "    }\n",
       "\n",
       "    .dataframe thead th {\n",
       "        text-align: right;\n",
       "    }\n",
       "</style>\n",
       "<table border=\"1\" class=\"dataframe\">\n",
       "  <thead>\n",
       "    <tr style=\"text-align: right;\">\n",
       "      <th></th>\n",
       "      <th>link</th>\n",
       "    </tr>\n",
       "  </thead>\n",
       "  <tbody>\n",
       "    <tr>\n",
       "      <th>1374</th>\n",
       "      <td>https://www.naukri.com/job-listings-data-analy...</td>\n",
       "    </tr>\n",
       "    <tr>\n",
       "      <th>1375</th>\n",
       "      <td>https://www.naukri.com/job-listings-data-analy...</td>\n",
       "    </tr>\n",
       "    <tr>\n",
       "      <th>1376</th>\n",
       "      <td>https://www.naukri.com/job-listings-data-analy...</td>\n",
       "    </tr>\n",
       "    <tr>\n",
       "      <th>1377</th>\n",
       "      <td>https://www.naukri.com/job-listings-data-analy...</td>\n",
       "    </tr>\n",
       "    <tr>\n",
       "      <th>1378</th>\n",
       "      <td>https://www.naukri.com/job-listings-data-analy...</td>\n",
       "    </tr>\n",
       "    <tr>\n",
       "      <th>...</th>\n",
       "      <td>...</td>\n",
       "    </tr>\n",
       "    <tr>\n",
       "      <th>14535</th>\n",
       "      <td>https://www.naukri.com/job-listings-ml-enginee...</td>\n",
       "    </tr>\n",
       "    <tr>\n",
       "      <th>14536</th>\n",
       "      <td>https://www.naukri.com/job-listings-iot-soluti...</td>\n",
       "    </tr>\n",
       "    <tr>\n",
       "      <th>14537</th>\n",
       "      <td>https://www.naukri.com/job-listings-product-ma...</td>\n",
       "    </tr>\n",
       "    <tr>\n",
       "      <th>14538</th>\n",
       "      <td>https://www.naukri.com/job-listings-profile-de...</td>\n",
       "    </tr>\n",
       "    <tr>\n",
       "      <th>14539</th>\n",
       "      <td>https://www.naukri.com/job-listings-assistant-...</td>\n",
       "    </tr>\n",
       "  </tbody>\n",
       "</table>\n",
       "<p>13166 rows × 1 columns</p>\n",
       "</div>"
      ],
      "text/plain": [
       "                                                    link\n",
       "1374   https://www.naukri.com/job-listings-data-analy...\n",
       "1375   https://www.naukri.com/job-listings-data-analy...\n",
       "1376   https://www.naukri.com/job-listings-data-analy...\n",
       "1377   https://www.naukri.com/job-listings-data-analy...\n",
       "1378   https://www.naukri.com/job-listings-data-analy...\n",
       "...                                                  ...\n",
       "14535  https://www.naukri.com/job-listings-ml-enginee...\n",
       "14536  https://www.naukri.com/job-listings-iot-soluti...\n",
       "14537  https://www.naukri.com/job-listings-product-ma...\n",
       "14538  https://www.naukri.com/job-listings-profile-de...\n",
       "14539  https://www.naukri.com/job-listings-assistant-...\n",
       "\n",
       "[13166 rows x 1 columns]"
      ]
     },
     "execution_count": 8,
     "metadata": {},
     "output_type": "execute_result"
    }
   ],
   "source": [
    "df_2215=link_for_edu_roles.iloc[2215:]\n",
    "df_2215"
   ]
  },
  {
   "cell_type": "code",
   "execution_count": 9,
   "metadata": {},
   "outputs": [],
   "source": [
    "Roles=[]\n",
    "Education=[]"
   ]
  },
  {
   "cell_type": "code",
   "execution_count": 10,
   "metadata": {},
   "outputs": [
    {
     "ename": "KeyboardInterrupt",
     "evalue": "",
     "output_type": "error",
     "traceback": [
      "\u001b[1;31m---------------------------------------------------------------------------\u001b[0m",
      "\u001b[1;31mKeyboardInterrupt\u001b[0m                         Traceback (most recent call last)",
      "\u001b[1;32m<ipython-input-10-b9a44e5931ae>\u001b[0m in \u001b[0;36m<module>\u001b[1;34m\u001b[0m\n\u001b[0;32m      1\u001b[0m \u001b[1;32mfor\u001b[0m \u001b[0mlnk\u001b[0m \u001b[1;32min\u001b[0m \u001b[0mdf_1374\u001b[0m\u001b[1;33m[\u001b[0m\u001b[1;34m'link'\u001b[0m\u001b[1;33m]\u001b[0m\u001b[1;33m:\u001b[0m\u001b[1;33m\u001b[0m\u001b[1;33m\u001b[0m\u001b[0m\n\u001b[0;32m      2\u001b[0m     \u001b[0mdriver\u001b[0m\u001b[1;33m.\u001b[0m\u001b[0mget\u001b[0m\u001b[1;33m(\u001b[0m\u001b[0mlnk\u001b[0m\u001b[1;33m)\u001b[0m\u001b[1;33m\u001b[0m\u001b[1;33m\u001b[0m\u001b[0m\n\u001b[1;32m----> 3\u001b[1;33m     \u001b[0mtime\u001b[0m\u001b[1;33m.\u001b[0m\u001b[0msleep\u001b[0m\u001b[1;33m(\u001b[0m\u001b[1;36m3\u001b[0m\u001b[1;33m)\u001b[0m\u001b[1;33m\u001b[0m\u001b[1;33m\u001b[0m\u001b[0m\n\u001b[0m\u001b[0;32m      4\u001b[0m     \u001b[0mlst\u001b[0m\u001b[1;33m=\u001b[0m\u001b[0mdriver\u001b[0m\u001b[1;33m.\u001b[0m\u001b[0mfind_elements_by_css_selector\u001b[0m\u001b[1;33m(\u001b[0m\u001b[1;34m\"section.job-desc\"\u001b[0m\u001b[1;33m)\u001b[0m\u001b[1;33m\u001b[0m\u001b[1;33m\u001b[0m\u001b[0m\n\u001b[0;32m      5\u001b[0m     \u001b[1;32mfor\u001b[0m \u001b[0mdesc\u001b[0m \u001b[1;32min\u001b[0m \u001b[0mlst\u001b[0m\u001b[1;33m:\u001b[0m\u001b[1;33m\u001b[0m\u001b[1;33m\u001b[0m\u001b[0m\n",
      "\u001b[1;31mKeyboardInterrupt\u001b[0m: "
     ]
    }
   ],
   "source": [
    "for lnk in df_2215['link']:\n",
    "    driver.get(lnk)\n",
    "    time.sleep(3)\n",
    "    lst=driver.find_elements_by_css_selector(\"section.job-desc\")\n",
    "    for desc in lst:\n",
    "        roles=desc.find_element_by_css_selector(\"div.other-details\").text\n",
    "        education=desc.find_element_by_css_selector(\"div.education\").text\n",
    "        Roles.append(roles)\n",
    "        Education.append(education)"
   ]
  },
  {
   "cell_type": "code",
   "execution_count": 11,
   "metadata": {},
   "outputs": [
    {
     "data": {
      "text/html": [
       "<div>\n",
       "<style scoped>\n",
       "    .dataframe tbody tr th:only-of-type {\n",
       "        vertical-align: middle;\n",
       "    }\n",
       "\n",
       "    .dataframe tbody tr th {\n",
       "        vertical-align: top;\n",
       "    }\n",
       "\n",
       "    .dataframe thead th {\n",
       "        text-align: right;\n",
       "    }\n",
       "</style>\n",
       "<table border=\"1\" class=\"dataframe\">\n",
       "  <thead>\n",
       "    <tr style=\"text-align: right;\">\n",
       "      <th></th>\n",
       "      <th>Roles</th>\n",
       "      <th>Education</th>\n",
       "    </tr>\n",
       "  </thead>\n",
       "  <tbody>\n",
       "    <tr>\n",
       "      <th>0</th>\n",
       "      <td>RoleBusiness Analyst\\nIndustry TypeIT-Software...</td>\n",
       "      <td>Education\\nUG :Any Graduate in Any Specializat...</td>\n",
       "    </tr>\n",
       "    <tr>\n",
       "      <th>1</th>\n",
       "      <td>RoleAssociate/Senior Associate -(NonTechnical)...</td>\n",
       "      <td>Education\\nUG :Any Graduate in Any Specializat...</td>\n",
       "    </tr>\n",
       "    <tr>\n",
       "      <th>2</th>\n",
       "      <td>RoleAssociate/Senior Associate -(NonTechnical)...</td>\n",
       "      <td>Education\\nUG :Any Graduate in Any Specializat...</td>\n",
       "    </tr>\n",
       "    <tr>\n",
       "      <th>3</th>\n",
       "      <td>RoleSales/Business Development Manager\\nIndust...</td>\n",
       "      <td>Education\\nUG :Any Graduate in Any Specializat...</td>\n",
       "    </tr>\n",
       "    <tr>\n",
       "      <th>4</th>\n",
       "      <td>RoleSoftware Developer\\nIndustry TypeRecruitme...</td>\n",
       "      <td>Education\\nUG :B.Tech/B.E. in Computers\\nPG :P...</td>\n",
       "    </tr>\n",
       "    <tr>\n",
       "      <th>...</th>\n",
       "      <td>...</td>\n",
       "      <td>...</td>\n",
       "    </tr>\n",
       "    <tr>\n",
       "      <th>836</th>\n",
       "      <td>RoleData Analyst\\nIndustry TypeIT-Software, So...</td>\n",
       "      <td>Education\\nUG :Any Graduate in Any Specialization</td>\n",
       "    </tr>\n",
       "    <tr>\n",
       "      <th>837</th>\n",
       "      <td>RoleSoftware Developer\\nIndustry TypeIT-Softwa...</td>\n",
       "      <td>Education\\nUG :Any Graduate in Any Specializat...</td>\n",
       "    </tr>\n",
       "    <tr>\n",
       "      <th>838</th>\n",
       "      <td>RoleIT/Technical Content Developer\\nIndustry T...</td>\n",
       "      <td>Education\\nUG :Any Graduate in Any Specialization</td>\n",
       "    </tr>\n",
       "    <tr>\n",
       "      <th>839</th>\n",
       "      <td>RoleDatabase Architect/Designer\\nIndustry Type...</td>\n",
       "      <td>Education\\nUG :Any Graduate in Any Specialization</td>\n",
       "    </tr>\n",
       "    <tr>\n",
       "      <th>840</th>\n",
       "      <td>RoleDatabase Architect/Designer\\nIndustry Type...</td>\n",
       "      <td>Education\\nUG :Any Graduate in Any Specialization</td>\n",
       "    </tr>\n",
       "  </tbody>\n",
       "</table>\n",
       "<p>841 rows × 2 columns</p>\n",
       "</div>"
      ],
      "text/plain": [
       "                                                 Roles  \\\n",
       "0    RoleBusiness Analyst\\nIndustry TypeIT-Software...   \n",
       "1    RoleAssociate/Senior Associate -(NonTechnical)...   \n",
       "2    RoleAssociate/Senior Associate -(NonTechnical)...   \n",
       "3    RoleSales/Business Development Manager\\nIndust...   \n",
       "4    RoleSoftware Developer\\nIndustry TypeRecruitme...   \n",
       "..                                                 ...   \n",
       "836  RoleData Analyst\\nIndustry TypeIT-Software, So...   \n",
       "837  RoleSoftware Developer\\nIndustry TypeIT-Softwa...   \n",
       "838  RoleIT/Technical Content Developer\\nIndustry T...   \n",
       "839  RoleDatabase Architect/Designer\\nIndustry Type...   \n",
       "840  RoleDatabase Architect/Designer\\nIndustry Type...   \n",
       "\n",
       "                                             Education  \n",
       "0    Education\\nUG :Any Graduate in Any Specializat...  \n",
       "1    Education\\nUG :Any Graduate in Any Specializat...  \n",
       "2    Education\\nUG :Any Graduate in Any Specializat...  \n",
       "3    Education\\nUG :Any Graduate in Any Specializat...  \n",
       "4    Education\\nUG :B.Tech/B.E. in Computers\\nPG :P...  \n",
       "..                                                 ...  \n",
       "836  Education\\nUG :Any Graduate in Any Specialization  \n",
       "837  Education\\nUG :Any Graduate in Any Specializat...  \n",
       "838  Education\\nUG :Any Graduate in Any Specialization  \n",
       "839  Education\\nUG :Any Graduate in Any Specialization  \n",
       "840  Education\\nUG :Any Graduate in Any Specialization  \n",
       "\n",
       "[841 rows x 2 columns]"
      ]
     },
     "execution_count": 11,
     "metadata": {},
     "output_type": "execute_result"
    }
   ],
   "source": [
    "#df = pd.DataFrame(list(zip(lst, lst2)),  columns =['Name', 'val']) \n",
    "Roles_Edu_df=pd.DataFrame(list(zip(Roles,Education)),columns=['Roles','Education'])\n",
    "Roles_Edu_df"
   ]
  },
  {
   "cell_type": "code",
   "execution_count": 12,
   "metadata": {},
   "outputs": [],
   "source": [
    "Roles_Edu_df.to_csv('Roles_Edu_df7.csv',index=False)"
   ]
  },
  {
   "cell_type": "code",
   "execution_count": 13,
   "metadata": {},
   "outputs": [
    {
     "data": {
      "text/plain": [
       "(841, 2)"
      ]
     },
     "execution_count": 13,
     "metadata": {},
     "output_type": "execute_result"
    }
   ],
   "source": [
    "df=pd.read_csv(r\"C:\\Users\\sak\\Documents\\Roles_Edu_df7.csv\")\n",
    "df.shape"
   ]
  },
  {
   "cell_type": "code",
   "execution_count": 4,
   "metadata": {},
   "outputs": [],
   "source": [
    "'''df1=pd.read_csv(r\"C:\\Users\\sak\\Documents\\Roles_Edu_df1.csv\")\n",
    "df2=pd.read_csv(r\"C:\\Users\\sak\\Documents\\Roles_Edu_df2.csv\")\n",
    "df3=pd.read_csv(r\"C:\\Users\\sak\\Documents\\Roles_Edu_df3.csv\")\n",
    "df4=pd.read_csv(r\"C:\\Users\\sak\\Documents\\Roles_Edu_df4.csv\")\n",
    "df5=pd.read_csv(r\"C:\\Users\\sak\\Documents\\Roles_Edu_df5.csv\")\n",
    "df6=pd.read_csv(r\"C:\\Users\\sak\\Documents\\Roles_Edu_df6.csv\")\n",
    "df7=pd.read_csv(r\"C:\\Users\\sak\\Documents\\Roles_Edu_df7.csv\")\n",
    "\n",
    "frames=[df1,df2,df3,df4,df5,df6,df7]\n",
    "Roles_Edu_df_final=pd.concat(frames)'''"
   ]
  },
  {
   "cell_type": "code",
   "execution_count": 5,
   "metadata": {},
   "outputs": [],
   "source": [
    "'''Roles_Edu_df_final.to_csv('Roles_Edu_df_final.csv',index=False)'''"
   ]
  },
  {
   "cell_type": "code",
   "execution_count": null,
   "metadata": {},
   "outputs": [],
   "source": []
  }
 ],
 "metadata": {
  "kernelspec": {
   "display_name": "Python 3",
   "language": "python",
   "name": "python3"
  },
  "language_info": {
   "codemirror_mode": {
    "name": "ipython",
    "version": 3
   },
   "file_extension": ".py",
   "mimetype": "text/x-python",
   "name": "python",
   "nbconvert_exporter": "python",
   "pygments_lexer": "ipython3",
   "version": "3.7.7"
  }
 },
 "nbformat": 4,
 "nbformat_minor": 4
}
