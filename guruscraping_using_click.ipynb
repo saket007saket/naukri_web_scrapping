{
 "cells": [
  {
   "cell_type": "code",
   "execution_count": 1,
   "metadata": {},
   "outputs": [],
   "source": [
    "import time\n",
    "from selenium import webdriver\n",
    "import pandas as pd\n",
    "from selenium.webdriver.common.keys import Keys"
   ]
  },
  {
   "cell_type": "code",
   "execution_count": 2,
   "metadata": {},
   "outputs": [],
   "source": [
    "PATH = \"C:\\Program Files (x86)\\chromedriver.exe\""
   ]
  },
  {
   "cell_type": "code",
   "execution_count": 3,
   "metadata": {},
   "outputs": [],
   "source": [
    "driver = webdriver.Chrome(PATH)"
   ]
  },
  {
   "cell_type": "code",
   "execution_count": 4,
   "metadata": {},
   "outputs": [],
   "source": [
    "login='https://www.guru.com/login.aspx'\n",
    "driver.get(login)"
   ]
  },
  {
   "cell_type": "code",
   "execution_count": 5,
   "metadata": {},
   "outputs": [
    {
     "data": {
      "text/plain": [
       "(3070, 1)"
      ]
     },
     "execution_count": 5,
     "metadata": {},
     "output_type": "execute_result"
    }
   ],
   "source": [
    "data=pd.read_csv(r\"C:\\Users\\sak\\Documents\\link_guru_jobs.csv\")\n",
    "data.shape"
   ]
  },
  {
   "cell_type": "markdown",
   "metadata": {},
   "source": [
    "# change"
   ]
  },
  {
   "cell_type": "code",
   "execution_count": 6,
   "metadata": {},
   "outputs": [
    {
     "data": {
      "text/html": [
       "<div>\n",
       "<style scoped>\n",
       "    .dataframe tbody tr th:only-of-type {\n",
       "        vertical-align: middle;\n",
       "    }\n",
       "\n",
       "    .dataframe tbody tr th {\n",
       "        vertical-align: top;\n",
       "    }\n",
       "\n",
       "    .dataframe thead th {\n",
       "        text-align: right;\n",
       "    }\n",
       "</style>\n",
       "<table border=\"1\" class=\"dataframe\">\n",
       "  <thead>\n",
       "    <tr style=\"text-align: right;\">\n",
       "      <th></th>\n",
       "      <th>Link</th>\n",
       "    </tr>\n",
       "  </thead>\n",
       "  <tbody>\n",
       "    <tr>\n",
       "      <th>0</th>\n",
       "      <td>https://www.guru.com/work/detail/1731482</td>\n",
       "    </tr>\n",
       "    <tr>\n",
       "      <th>1</th>\n",
       "      <td>https://www.guru.com/work/detail/1731479</td>\n",
       "    </tr>\n",
       "    <tr>\n",
       "      <th>2</th>\n",
       "      <td>https://www.guru.com/work/detail/1731480</td>\n",
       "    </tr>\n",
       "    <tr>\n",
       "      <th>3</th>\n",
       "      <td>https://www.guru.com/work/detail/1731476</td>\n",
       "    </tr>\n",
       "    <tr>\n",
       "      <th>4</th>\n",
       "      <td>https://www.guru.com/work/detail/1731474</td>\n",
       "    </tr>\n",
       "  </tbody>\n",
       "</table>\n",
       "</div>"
      ],
      "text/plain": [
       "                                       Link\n",
       "0  https://www.guru.com/work/detail/1731482\n",
       "1  https://www.guru.com/work/detail/1731479\n",
       "2  https://www.guru.com/work/detail/1731480\n",
       "3  https://www.guru.com/work/detail/1731476\n",
       "4  https://www.guru.com/work/detail/1731474"
      ]
     },
     "execution_count": 6,
     "metadata": {},
     "output_type": "execute_result"
    }
   ],
   "source": [
    "df_0_499=data.iloc[0:500]\n",
    "df_0_499.head()"
   ]
  },
  {
   "cell_type": "code",
   "execution_count": 7,
   "metadata": {},
   "outputs": [
    {
     "data": {
      "text/plain": [
       "(500, 1)"
      ]
     },
     "execution_count": 7,
     "metadata": {},
     "output_type": "execute_result"
    }
   ],
   "source": [
    "df_0_499.shape"
   ]
  },
  {
   "cell_type": "code",
   "execution_count": 8,
   "metadata": {},
   "outputs": [],
   "source": [
    "jobs={\"Time_and_date_and_job_id\":[],\n",
    "      \"Job_title\":[],\n",
    "      \"Job_is_featured_or_not\":[],\n",
    "      \"Payment_type\":[],\n",
    "       \"Due_date\":[],\n",
    "        \"Category_subcategory\":[],\n",
    "       \"Category\":[],\n",
    "      #\"Subcategory\":[],\n",
    "     \"Skills\":[],\n",
    "    \"No_of_quotes\":[],\n",
    "      \"Link_of_quoters\":[],\n",
    "     \"No_of_Premium_quotes\":[],\n",
    "      \"Link_of_premium_quoters\":[],\n",
    "      \"No_of_inviited\":[],\n",
    "      \"Link_of_invited_freelancers\":[],\n",
    "      \"No_of_Hired\":[],\n",
    "      \"Link_of_hired_freelancers\":[],\n",
    "     \"Name_of_employer\":[],\n",
    "     \"Link_of_employer\":[],\n",
    "     \"Description\":[]}"
   ]
  },
  {
   "cell_type": "code",
   "execution_count": 9,
   "metadata": {},
   "outputs": [],
   "source": [
    "status=[]"
   ]
  },
  {
   "cell_type": "markdown",
   "metadata": {},
   "source": [
    "# change"
   ]
  },
  {
   "cell_type": "code",
   "execution_count": 10,
   "metadata": {},
   "outputs": [],
   "source": [
    "\n",
    "for lnk in df_0_499['Link']:\n",
    "    \n",
    "    try:\n",
    "        driver.get(lnk)\n",
    "        time.sleep(3)\n",
    "        time_and_data_and_job_id=driver.find_element_by_css_selector(\"#aspnetForm > main > section > div.container.resp > div > header > div.jobHeading__left > div:nth-child(1) > p\").text\n",
    "        job_title=driver.find_element_by_css_selector(\"#aspnetForm > main > section > div.container.resp > div > header > div.jobHeading__left > div:nth-child(1) > div > h1\").text\n",
    "        payment_type=driver.find_element_by_css_selector(\"#aspnetForm > main > section > div.container.resp > div > header > div.jobHeading__left > div.jobHeading__budget > span\").text\n",
    "        due_date=driver.find_element_by_css_selector(\"#aspnetForm > main > section > div.container.resp > div > header > div.jobHeading__right > div > p:nth-child(1) > span > strong\").text\n",
    "        category_subcategory=driver.find_element_by_css_selector(\"#aspnetForm > main > section > div.container.resp > div > div.jobDetails.layout-right-aside.layout-right-aside_largeRight > main > div.jobDetails__summary > div > div > p\").text\n",
    "        category=driver.find_element_by_css_selector(\"#aspnetForm > main > section > div.container.resp > div > div.jobDetails.layout-right-aside.layout-right-aside_largeRight > main > div.jobDetails__summary > div > div > p > strong\").text\n",
    "        #subcategory=driver.find_element_by_css_selector(\"#aspnetForm > main > section > div.container.resp > div > div.jobDetails.layout-right-aside.layout-right-aside_largeRight > main > div.jobDetails__summary > div > div > p > svg\").text\n",
    "        skills=driver.find_element_by_css_selector(\"#aspnetForm > main > section > div.container.resp > div > div.jobDetails.layout-right-aside.layout-right-aside_largeRight > main > div.jobDetails__summary > div > ul\").text\n",
    "        description=driver.find_element_by_css_selector(\"#aspnetForm > main > section > div.container.resp > div > div.jobDetails.layout-right-aside.layout-right-aside_largeRight > main > div.jobDetails__summary > pre\").text\n",
    "        tags=driver.find_element_by_css_selector(\"div.jobApplicants.resp--hidden-till-large\").text\n",
    "        '''if (driver.find_element_by_class_name(\"<span>Featured</span>\")):\n",
    "            jobs[\"Job_is_featured_or_not\"].append('Yes')\n",
    "        else:\n",
    "            jobs[\"Job_is_featured_or_not\"].append('No')'''\n",
    "\n",
    "\n",
    "        empty_list_1=[]\n",
    "        #no_of_quotes=driver.find_element_by_css_selector(\"div.jobApplicants.resp--hidden-till-large > em\").text\n",
    "        if (int(tags.split(\"(\")[1].split(\")\")[0])!=0):\n",
    "            driver.find_element_by_css_selector(\"div.jobApplicants.resp--hidden-till-large > a:nth-child(1) > em\").click()\n",
    "            time.sleep(3)\n",
    "            lst1=driver.find_elements_by_css_selector(\"p.identityName.rhythmMarginSmall > a\")\n",
    "            for i in lst1:\n",
    "                empty_list_1.append(i.get_attribute('href'))\n",
    "            jobs[\"Link_of_quoters\"].append(empty_list_1)\n",
    "        else:\n",
    "            jobs[\"Link_of_quoters\"].append(empty_list_1)\n",
    "        driver.get(lnk)\n",
    "        time.sleep(3)\n",
    "        empty_list_2=[]\n",
    "        #no_of_premium_quotes=driver.find_element_by_css_selector(\"div.jobApplicants.resp--hidden-till-large > span:nth-child(3) > em\").text\n",
    "        if (int(tags.split(\"(\")[2].split(\")\")[0])!=0):\n",
    "            driver.find_element_by_css_selector(\"div.jobApplicants.resp--hidden-till-large > a:nth-child(3) > em\").click()\n",
    "            time.sleep(3)\n",
    "            lst2=driver.find_elements_by_css_selector(\"p.identityName.rhythmMarginSmall > a\")\n",
    "            for i in lst2:\n",
    "                empty_list_2.append(i.get_attribute('href'))\n",
    "            jobs[\"Link_of_premium_quoters\"].append(empty_list_2)\n",
    "        else:\n",
    "            jobs[\"Link_of_premium_quoters\"].append(empty_list_2)\n",
    "\n",
    "        driver.get(lnk)\n",
    "        time.sleep(3)\n",
    "        empty_list_3=[]\n",
    "        #no_of_invited=driver.find_element_by_css_selector(\"div.jobApplicants.resp--hidden-till-large > span:nth-child(5) > em\").text\n",
    "        if (int(tags.split(\"(\")[3].split(\")\")[0])!=0):\n",
    "            driver.find_element_by_css_selector(\"div.jobApplicants.resp--hidden-till-large > a:nth-child(5) > em\").click()\n",
    "            time.sleep(3)\n",
    "            lst3=driver.find_elements_by_css_selector(\"p.identityName.rhythmMarginSmall > a\")\n",
    "            for i in lst3:\n",
    "                empty_list_3.append(i.get_attribute('href'))\n",
    "            jobs[\"Link_of_invited_freelancers\"].append(empty_list_3)\n",
    "        else:\n",
    "            jobs[\"Link_of_invited_freelancers\"].append(empty_list_3)\n",
    "        driver.get(lnk)\n",
    "        time.sleep(3)\n",
    "        empty_list_4=[]\n",
    "        #no_of_hired=driver.find_element_by_css_selector(\"div.jobApplicants.resp--hidden-till-large > a:nth-child(7) > em\").text\n",
    "        if (int(tags.split(\"(\")[4].split(\")\")[0])!=0):\n",
    "            driver.find_element_by_css_selector(\"div.jobApplicants.resp--hidden-till-large > a:nth-child(7) > em\").click()\n",
    "            time.sleep(3)\n",
    "            lst4=driver.find_elements_by_css_selector(\"p.identityName.rhythmMarginSmall > a\")\n",
    "            for i in lst4:\n",
    "                empty_list_4.append(i.get_attribute('href'))\n",
    "            jobs[\"Link_of_hired_freelancers\"].append(empty_list_4)\n",
    "        else:\n",
    "            jobs[\"Link_of_hired_freelancers\"].append(empty_list_4)\n",
    "        name_of_employer=driver.find_element_by_css_selector(\"#aspnetForm > main > section > div.container.resp > div > div.jobDetails.layout-right-aside.layout-right-aside_largeRight > aside > div.resp__box.jobDetails__employer > section > div > div.module_avatar.avatar_table.thirtytwo > div.avatarinfo > div > div > p > a > strong\").text\n",
    "        link_of_employer=driver.find_element_by_css_selector(\"#aspnetForm > main > section > div.container.resp > div > div.jobDetails.layout-right-aside.layout-right-aside_largeRight > aside > div.resp__box.jobDetails__employer > section > div > div.module_avatar.avatar_table.thirtytwo > div.avatarinfo > div > div > p > a\").get_attribute('href')\n",
    "        #jobs[\"Link_of_quoter\"].append(link_of_employer)\n",
    "        jobs[\"Time_and_date_and_job_id\"].append(time_and_data_and_job_id)\n",
    "        jobs[\"Job_title\"].append(job_title)\n",
    "        jobs[\"Payment_type\"].append(payment_type)\n",
    "        jobs[\"Due_date\"].append(due_date)\n",
    "        jobs[\"Category_subcategory\"].append(category_subcategory)\n",
    "        jobs[\"Category\"].append(category)\n",
    "        #jobs[\"Subcategory\"].append(subcategory)\n",
    "        jobs[\"Skills\"].append(skills)\n",
    "        jobs[\"Description\"].append(description)\n",
    "        jobs[\"No_of_quotes\"].append(int(tags.split(\"(\")[1].split(\")\")[0]))\n",
    "        jobs[\"No_of_Premium_quotes\"].append(int(tags.split(\"(\")[2].split(\")\")[0]))\n",
    "        jobs[\"No_of_inviited\"].append(int(tags.split(\"(\")[3].split(\")\")[0]))\n",
    "        jobs[\"No_of_Hired\"].append(int(tags.split(\"(\")[4].split(\")\")[0]))\n",
    "        jobs[\"Name_of_employer\"].append(name_of_employer)\n",
    "        jobs[\"Link_of_employer\"].append(link_of_employer)\n",
    "        status.append(\"open\")\n",
    "    except :\n",
    "        status.append(\"closed\")\n",
    "        continue\n",
    "\n",
    "\n"
   ]
  },
  {
   "cell_type": "markdown",
   "metadata": {},
   "source": [
    "# change"
   ]
  },
  {
   "cell_type": "code",
   "execution_count": 1,
   "metadata": {},
   "outputs": [
    {
     "ename": "NameError",
     "evalue": "name 'status' is not defined",
     "output_type": "error",
     "traceback": [
      "\u001b[1;31m---------------------------------------------------------------------------\u001b[0m",
      "\u001b[1;31mNameError\u001b[0m                                 Traceback (most recent call last)",
      "\u001b[1;32m<ipython-input-1-248362173746>\u001b[0m in \u001b[0;36m<module>\u001b[1;34m\u001b[0m\n\u001b[1;32m----> 1\u001b[1;33m \u001b[0mdf_0_499\u001b[0m\u001b[1;33m[\u001b[0m\u001b[1;34m\"status\"\u001b[0m\u001b[1;33m]\u001b[0m\u001b[1;33m=\u001b[0m\u001b[0mstatus\u001b[0m\u001b[1;33m\u001b[0m\u001b[1;33m\u001b[0m\u001b[0m\n\u001b[0m",
      "\u001b[1;31mNameError\u001b[0m: name 'status' is not defined"
     ]
    }
   ],
   "source": [
    "df_0_499[\"status\"]=status"
   ]
  },
  {
   "cell_type": "markdown",
   "metadata": {},
   "source": [
    "# change"
   ]
  },
  {
   "cell_type": "code",
   "execution_count": null,
   "metadata": {},
   "outputs": [],
   "source": [
    "df_0_499.to_csv('guru_job_link_0_to_499.csv',index=False)\n",
    "check=pd.read_csv(r\"C:\\Users\\sak\\Documents\\guru_job_link_0_to_499.csv\")\n",
    "check.shape"
   ]
  },
  {
   "cell_type": "code",
   "execution_count": 183,
   "metadata": {},
   "outputs": [],
   "source": [
    "guru=pd.DataFrame(list(zip(jobs[\"Time_and_date_and_job_id\"],jobs[\"Job_title\"],jobs[\"Payment_type\"],jobs[\"Due_date\"],jobs[\"Category_subcategory\"]\n",
    "                           ,jobs[\"Category\"],jobs[\"Skills\"],jobs[\"No_of_quotes\"],jobs[\"Link_of_quoters\"],jobs[\"No_of_Premium_quotes\"]\n",
    "                          ,jobs[\"Link_of_premium_quoters\"],jobs[\"No_of_inviited\"],jobs[\"Link_of_invited_freelancers\"],jobs[\"No_of_Hired\"],\n",
    "                          jobs[\"Link_of_hired_freelancers\"],jobs[\"Name_of_employer\"],jobs[\"Link_of_employer\"],jobs[\"Description\"])),\n",
    "                  columns=['Time_and_date_and_job_id','Job_title','Payment_type','Due_date','Category_subcategory','Category','Skills',\n",
    "                          'No_of_quotes','Link_of_quoters','No_of_Premium_quotes','Link_of_premium_quoters','No_of_inviited',\n",
    "                         'Link_of_invited_freelancers','No_of_Hired','Link_of_hired_freelancers','Name_of_employer','Link_of_employer',\n",
    "                         'Description' ])"
   ]
  },
  {
   "cell_type": "markdown",
   "metadata": {},
   "source": [
    "# change"
   ]
  },
  {
   "cell_type": "code",
   "execution_count": null,
   "metadata": {},
   "outputs": [],
   "source": [
    "guru.to_csv('guru_job_0_to_499.csv',index=False)\n",
    "check2=pd.read_csv(r\"C:\\Users\\sak\\Documents\\guru_job_0_to_499.csv\")\n",
    "check2.shape"
   ]
  }
 ],
 "metadata": {
  "kernelspec": {
   "display_name": "Python 3",
   "language": "python",
   "name": "python3"
  },
  "language_info": {
   "codemirror_mode": {
    "name": "ipython",
    "version": 3
   },
   "file_extension": ".py",
   "mimetype": "text/x-python",
   "name": "python",
   "nbconvert_exporter": "python",
   "pygments_lexer": "ipython3",
   "version": "3.7.7"
  }
 },
 "nbformat": 4,
 "nbformat_minor": 4
}
