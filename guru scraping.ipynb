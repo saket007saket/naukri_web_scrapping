{
 "cells": [
  {
   "cell_type": "code",
   "execution_count": 17,
   "metadata": {},
   "outputs": [],
   "source": [
    "import time\n",
    "from selenium import webdriver\n",
    "import pandas as pd\n",
    "from selenium.webdriver.common.keys import Keys"
   ]
  },
  {
   "cell_type": "code",
   "execution_count": 2,
   "metadata": {},
   "outputs": [],
   "source": [
    "PATH = \"C:\\Program Files (x86)\\chromedriver.exe\""
   ]
  },
  {
   "cell_type": "code",
   "execution_count": 3,
   "metadata": {},
   "outputs": [],
   "source": [
    "driver = webdriver.Chrome(PATH)"
   ]
  },
  {
   "cell_type": "code",
   "execution_count": 4,
   "metadata": {},
   "outputs": [],
   "source": [
    "login='https://www.guru.com/login.aspx'\n",
    "driver.get(login)"
   ]
  },
  {
   "cell_type": "code",
   "execution_count": 5,
   "metadata": {},
   "outputs": [
    {
     "data": {
      "text/plain": [
       "'username = driver.find_element_by_id(\"userId\")\\npassword = driver.find_element_by_id(\"password\")\\n\\nusername.send_keys(\"saket007saket@gmail.com\")\\npassword.send_keys(\"Saket@007@Saket\")\\n\\ndriver.find_element_by_id(\"login-button\").click()'"
      ]
     },
     "execution_count": 5,
     "metadata": {},
     "output_type": "execute_result"
    }
   ],
   "source": [
    "'''username = driver.find_element_by_id(\"userId\")\n",
    "password = driver.find_element_by_id(\"password\")\n",
    "\n",
    "username.send_keys(\"saket007saket@gmail.com\")\n",
    "password.send_keys(\"Saket@007@Saket\")\n",
    "\n",
    "driver.find_element_by_id(\"login-button\").click()'''"
   ]
  },
  {
   "cell_type": "code",
   "execution_count": 6,
   "metadata": {},
   "outputs": [],
   "source": [
    "#url ='https://www.guru.com/d/jobs/pg/160/'"
   ]
  },
  {
   "cell_type": "code",
   "execution_count": 7,
   "metadata": {},
   "outputs": [],
   "source": [
    "url='https://www.guru.com/d/jobs/pg/{}/'"
   ]
  },
  {
   "cell_type": "code",
   "execution_count": 8,
   "metadata": {},
   "outputs": [
    {
     "data": {
      "text/plain": [
       "'https://www.guru.com/d/jobs/pg/{}/'"
      ]
     },
     "execution_count": 8,
     "metadata": {},
     "output_type": "execute_result"
    }
   ],
   "source": [
    "url"
   ]
  },
  {
   "cell_type": "code",
   "execution_count": 9,
   "metadata": {},
   "outputs": [],
   "source": [
    "jobs_link={\"Link\":[]}"
   ]
  },
  {
   "cell_type": "code",
   "execution_count": 10,
   "metadata": {},
   "outputs": [],
   "source": [
    "for i in range(1,155):\n",
    "    driver.get(url.format(i))\n",
    "    time.sleep(3)\n",
    "    lst=driver.find_elements_by_css_selector(\"div.record.jobRecord\")\n",
    "    for job in lst:\n",
    "        driver.implicitly_wait(10)\n",
    "        link=job.find_element_by_css_selector('h2.jobRecord__title.jobRecord__title--changeVisited>a').get_attribute('href')\n",
    "        jobs_link['Link'].append(link)\n",
    "\n",
    "\n"
   ]
  },
  {
   "cell_type": "code",
   "execution_count": 11,
   "metadata": {},
   "outputs": [],
   "source": [
    "#lst"
   ]
  },
  {
   "cell_type": "code",
   "execution_count": 12,
   "metadata": {},
   "outputs": [
    {
     "data": {
      "text/html": [
       "<div>\n",
       "<style scoped>\n",
       "    .dataframe tbody tr th:only-of-type {\n",
       "        vertical-align: middle;\n",
       "    }\n",
       "\n",
       "    .dataframe tbody tr th {\n",
       "        vertical-align: top;\n",
       "    }\n",
       "\n",
       "    .dataframe thead th {\n",
       "        text-align: right;\n",
       "    }\n",
       "</style>\n",
       "<table border=\"1\" class=\"dataframe\">\n",
       "  <thead>\n",
       "    <tr style=\"text-align: right;\">\n",
       "      <th></th>\n",
       "      <th>Link</th>\n",
       "    </tr>\n",
       "  </thead>\n",
       "  <tbody>\n",
       "    <tr>\n",
       "      <th>0</th>\n",
       "      <td>https://www.guru.com/work/detail/1731482</td>\n",
       "    </tr>\n",
       "    <tr>\n",
       "      <th>1</th>\n",
       "      <td>https://www.guru.com/work/detail/1731479</td>\n",
       "    </tr>\n",
       "    <tr>\n",
       "      <th>2</th>\n",
       "      <td>https://www.guru.com/work/detail/1731480</td>\n",
       "    </tr>\n",
       "    <tr>\n",
       "      <th>3</th>\n",
       "      <td>https://www.guru.com/work/detail/1731476</td>\n",
       "    </tr>\n",
       "    <tr>\n",
       "      <th>4</th>\n",
       "      <td>https://www.guru.com/work/detail/1731474</td>\n",
       "    </tr>\n",
       "    <tr>\n",
       "      <th>...</th>\n",
       "      <td>...</td>\n",
       "    </tr>\n",
       "    <tr>\n",
       "      <th>3065</th>\n",
       "      <td>https://www.guru.com/work/detail/1726815</td>\n",
       "    </tr>\n",
       "    <tr>\n",
       "      <th>3066</th>\n",
       "      <td>https://www.guru.com/work/detail/1726143</td>\n",
       "    </tr>\n",
       "    <tr>\n",
       "      <th>3067</th>\n",
       "      <td>https://www.guru.com/work/detail/1721711</td>\n",
       "    </tr>\n",
       "    <tr>\n",
       "      <th>3068</th>\n",
       "      <td>https://www.guru.com/work/detail/1722425</td>\n",
       "    </tr>\n",
       "    <tr>\n",
       "      <th>3069</th>\n",
       "      <td>https://www.guru.com/work/detail/1725223</td>\n",
       "    </tr>\n",
       "  </tbody>\n",
       "</table>\n",
       "<p>3070 rows × 1 columns</p>\n",
       "</div>"
      ],
      "text/plain": [
       "                                          Link\n",
       "0     https://www.guru.com/work/detail/1731482\n",
       "1     https://www.guru.com/work/detail/1731479\n",
       "2     https://www.guru.com/work/detail/1731480\n",
       "3     https://www.guru.com/work/detail/1731476\n",
       "4     https://www.guru.com/work/detail/1731474\n",
       "...                                        ...\n",
       "3065  https://www.guru.com/work/detail/1726815\n",
       "3066  https://www.guru.com/work/detail/1726143\n",
       "3067  https://www.guru.com/work/detail/1721711\n",
       "3068  https://www.guru.com/work/detail/1722425\n",
       "3069  https://www.guru.com/work/detail/1725223\n",
       "\n",
       "[3070 rows x 1 columns]"
      ]
     },
     "execution_count": 12,
     "metadata": {},
     "output_type": "execute_result"
    }
   ],
   "source": [
    "df_link=pd.DataFrame(jobs_link)\n",
    "df_link"
   ]
  },
  {
   "cell_type": "code",
   "execution_count": 13,
   "metadata": {},
   "outputs": [],
   "source": [
    "df_link.to_csv('link_guru_jobs.csv',index=False)"
   ]
  },
  {
   "cell_type": "code",
   "execution_count": 18,
   "metadata": {},
   "outputs": [
    {
     "data": {
      "text/plain": [
       "(3070, 1)"
      ]
     },
     "execution_count": 18,
     "metadata": {},
     "output_type": "execute_result"
    }
   ],
   "source": [
    "data=pd.read_csv(r\"C:\\Users\\sak\\Documents\\link_guru_jobs.csv\")\n",
    "data.shape"
   ]
  },
  {
   "cell_type": "code",
   "execution_count": 19,
   "metadata": {},
   "outputs": [
    {
     "data": {
      "text/plain": [
       "'https://www.guru.com/work/detail/1731479'"
      ]
     },
     "execution_count": 19,
     "metadata": {},
     "output_type": "execute_result"
    }
   ],
   "source": [
    "data['Link'][1]  # 0 to 3031 link is valid "
   ]
  },
  {
   "cell_type": "markdown",
   "metadata": {},
   "source": [
    "# change here"
   ]
  },
  {
   "cell_type": "code",
   "execution_count": 20,
   "metadata": {},
   "outputs": [],
   "source": [
    "#df_0_3031=data.iloc[0:3031]\n",
    "#df_0_3031"
   ]
  },
  {
   "cell_type": "code",
   "execution_count": 21,
   "metadata": {},
   "outputs": [],
   "source": [
    "jobs={\n",
    "    \"Job_id\":[],\n",
    "    \"Job_title\":[],\n",
    "    \"Payment_type\":[],\n",
    "    \"Due_date\":[],\n",
    "    \"List_of_quotes\":[],\n",
    "    \"Category_subcategory\":[],\n",
    "    \"Category\":[],\n",
    "    \"Tags\":[],\n",
    "    \"Employer_name\":[],\n",
    "    \"Employer_link\":[],\n",
    "    \"Description\":[]\n",
    "}"
   ]
  },
  {
   "cell_type": "markdown",
   "metadata": {},
   "source": [
    "# change here "
   ]
  },
  {
   "cell_type": "code",
   "execution_count": 22,
   "metadata": {},
   "outputs": [],
   "source": [
    "for lnk in data['Link']:\n",
    "    driver.get(lnk)\n",
    "    #driver.implicitly_wait(10)\n",
    "    #print(lnk)\n",
    "    time.sleep(3)\n",
    "    lst=driver.find_elements_by_css_selector(\"div.jobDetails.view\")\n",
    "    for job in lst:\n",
    "        job_id=job.find_element_by_css_selector(\"p.jobHeading__meta\").text\n",
    "        job_title=job.find_element_by_css_selector(\"h1.jobHeading__title\").text\n",
    "        payment_type=job.find_element_by_css_selector(\"div.jobHeading__budget\").text\n",
    "        due_date=job.find_element_by_css_selector(\"p.copy.small.grey.rhythmMargin1\").text\n",
    "        list_of_quotes=job.find_element_by_css_selector(\"div.jobApplicants.resp--hidden-till-large\").text\n",
    "        category_subcategory=job.find_element_by_css_selector(\"div.jobDetails__category\").text\n",
    "        category=job.find_element_by_css_selector(\"span.module_badge\").text\n",
    "        tags=job.find_element_by_css_selector(\"ul.skillsList.flex\").text\n",
    "        employer_name=job.find_element_by_css_selector(\"p.rhythmMarginSmall\").text\n",
    "        employer_link=job.find_element_by_css_selector('p.rhythmMarginSmall>a').get_attribute('href')\n",
    "        description=job.find_element_by_css_selector(\"pre.jobDetails__description\").text\n",
    "        jobs[\"Job_id\"].append(job_id)\n",
    "        jobs[\"Job_title\"].append(job_title)\n",
    "        jobs[\"Payment_type\"].append(payment_type)\n",
    "        jobs[\"Due_date\"].append(due_date)\n",
    "        jobs[\"List_of_quotes\"].append(list_of_quotes)\n",
    "        jobs[\"Category_subcategory\"].append(category_subcategory)\n",
    "        jobs[\"Tags\"].append(tags)\n",
    "        jobs[\"Employer_name\"].append(employer_name)\n",
    "        jobs[\"Employer_link\"].append(employer_link)\n",
    "        jobs[\"Description\"].append(description)\n",
    "        \n",
    "        \n",
    "\n"
   ]
  },
  {
   "cell_type": "code",
   "execution_count": 45,
   "metadata": {},
   "outputs": [
    {
     "data": {
      "text/plain": [
       "2959"
      ]
     },
     "execution_count": 45,
     "metadata": {},
     "output_type": "execute_result"
    }
   ],
   "source": [
    "len(jobs[\"Category_subcategory\"])"
   ]
  },
  {
   "cell_type": "code",
   "execution_count": 42,
   "metadata": {},
   "outputs": [
    {
     "data": {
      "text/plain": [
       "list"
      ]
     },
     "execution_count": 42,
     "metadata": {},
     "output_type": "execute_result"
    }
   ],
   "source": [
    "type(jobs[\"Payment_type\"])"
   ]
  },
  {
   "cell_type": "code",
   "execution_count": 41,
   "metadata": {},
   "outputs": [
    {
     "data": {
      "text/plain": [
       "2959"
      ]
     },
     "execution_count": 41,
     "metadata": {},
     "output_type": "execute_result"
    }
   ],
   "source": [
    "len(jobs[\"Description\"])"
   ]
  },
  {
   "cell_type": "code",
   "execution_count": 31,
   "metadata": {},
   "outputs": [
    {
     "data": {
      "text/plain": [
       "2959"
      ]
     },
     "execution_count": 31,
     "metadata": {},
     "output_type": "execute_result"
    }
   ],
   "source": [
    "len(jobs[\"Description\"])"
   ]
  },
  {
   "cell_type": "code",
   "execution_count": 46,
   "metadata": {},
   "outputs": [],
   "source": [
    "#Roles_Edu_df=pd.DataFrame(list(zip(Roles,Education)),columns=['Roles','Education'])\n",
    "guru=pd.DataFrame(list(zip(jobs[\"Job_id\"],jobs[\"Job_title\"],jobs[\"Payment_type\"],jobs[\"Due_date\"],jobs[\"List_of_quotes\"]\n",
    "                           ,jobs[\"Category_subcategory\"],jobs[\"Tags\"],jobs[\"Employer_name\"],jobs[\"Employer_link\"],jobs[\"Description\"])),\n",
    "                  columns=['Job_id','Job_title','Payment_type','Due_date','List_of_quotes','Category_subcategory','Tags',\n",
    "                         'Employer_name','Employer_link', 'Description'])"
   ]
  },
  {
   "cell_type": "code",
   "execution_count": 48,
   "metadata": {},
   "outputs": [
    {
     "data": {
      "text/html": [
       "<div>\n",
       "<style scoped>\n",
       "    .dataframe tbody tr th:only-of-type {\n",
       "        vertical-align: middle;\n",
       "    }\n",
       "\n",
       "    .dataframe tbody tr th {\n",
       "        vertical-align: top;\n",
       "    }\n",
       "\n",
       "    .dataframe thead th {\n",
       "        text-align: right;\n",
       "    }\n",
       "</style>\n",
       "<table border=\"1\" class=\"dataframe\">\n",
       "  <thead>\n",
       "    <tr style=\"text-align: right;\">\n",
       "      <th></th>\n",
       "      <th>Job_id</th>\n",
       "      <th>Job_title</th>\n",
       "      <th>Payment_type</th>\n",
       "      <th>Due_date</th>\n",
       "      <th>List_of_quotes</th>\n",
       "      <th>Category_subcategory</th>\n",
       "      <th>Tags</th>\n",
       "      <th>Employer_name</th>\n",
       "      <th>Employer_link</th>\n",
       "      <th>Description</th>\n",
       "    </tr>\n",
       "  </thead>\n",
       "  <tbody>\n",
       "    <tr>\n",
       "      <th>0</th>\n",
       "      <td>Posted 29 mins ago | Job ID: 1731482</td>\n",
       "      <td>Society Management app (Android/IOS)</td>\n",
       "      <td>Fixed Price | Under $250</td>\n",
       "      <td>Send before: December 18, 2020</td>\n",
       "      <td>Quotes (1)  ·  Premium Quotes (0)  ·  Invited ...</td>\n",
       "      <td>Programming &amp; Development Apps &amp; Mobile\\nAndro...</td>\n",
       "      <td>Android Development\\nSoftware Development\\nApp...</td>\n",
       "      <td></td>\n",
       "      <td>https://www.guru.com/work/detail/1731482#</td>\n",
       "      <td>We are looking for mobile app developer (fulls...</td>\n",
       "    </tr>\n",
       "    <tr>\n",
       "      <th>1</th>\n",
       "      <td>Posted 30 mins ago | Job ID: 1731479</td>\n",
       "      <td>GPRS tracking device/Server</td>\n",
       "      <td>Fixed Price or Hourly</td>\n",
       "      <td>Send before: December 16, 2020</td>\n",
       "      <td>Quotes (1)  ·  Premium Quotes (0)  ·  Invited ...</td>\n",
       "      <td>Programming &amp; Development Programming &amp; Softwa...</td>\n",
       "      <td>Embedded Development\\nGPRS</td>\n",
       "      <td></td>\n",
       "      <td>https://www.guru.com/work/detail/1731479#</td>\n",
       "      <td>I want to be able to track vehicles thus neede...</td>\n",
       "    </tr>\n",
       "    <tr>\n",
       "      <th>2</th>\n",
       "      <td>Posted 33 mins ago | Job ID: 1731480</td>\n",
       "      <td>create + edit two certificates</td>\n",
       "      <td>Fixed Price | Under $250</td>\n",
       "      <td>Send before: December 16, 2020</td>\n",
       "      <td>Quotes (5)  ·  Premium Quotes (0)  ·  Invited ...</td>\n",
       "      <td>Design &amp; Art Graphic Design\\nGraphic Design\\nI...</td>\n",
       "      <td>Graphic Design\\nIllustration\\nLayout Design\\nA...</td>\n",
       "      <td></td>\n",
       "      <td>https://www.guru.com/work/detail/1731480#</td>\n",
       "      <td>I need a graphics artist/photoshop/illustrator...</td>\n",
       "    </tr>\n",
       "    <tr>\n",
       "      <th>3</th>\n",
       "      <td>Posted 45 mins ago | Job ID: 1731476</td>\n",
       "      <td>2 WEBSITE DEVELOPMENT</td>\n",
       "      <td>Fixed Price | $1k-$2.5k</td>\n",
       "      <td>Send before: December 16, 2020</td>\n",
       "      <td>Quotes (5)  ·  Premium Quotes (0)  ·  Invited ...</td>\n",
       "      <td>Programming &amp; Development Web Development &amp; De...</td>\n",
       "      <td>PHP\\nWordPress\\nDesign\\nPhotography\\nWeb Devel...</td>\n",
       "      <td></td>\n",
       "      <td>https://www.guru.com/work/detail/1731476#</td>\n",
       "      <td>We need two website design\\n\\n1. This process ...</td>\n",
       "    </tr>\n",
       "    <tr>\n",
       "      <th>4</th>\n",
       "      <td>Posted 47 mins ago | Job ID: 1731474</td>\n",
       "      <td>Translator for texts</td>\n",
       "      <td>Hourly | $5 - $30 | 1-10 hrs/wk | 1-5 days |\\n...</td>\n",
       "      <td>Send before: December 17, 2020</td>\n",
       "      <td>Quotes (0)  ·  Premium Quotes (0)  ·  Invited ...</td>\n",
       "      <td>Writing &amp; Translation Translation\\nGerman Tran...</td>\n",
       "      <td>German Translation\\nItalian Translation\\nSpani...</td>\n",
       "      <td></td>\n",
       "      <td>https://www.guru.com/work/detail/1731474#</td>\n",
       "      <td>Italian mother tongue with English, German and...</td>\n",
       "    </tr>\n",
       "  </tbody>\n",
       "</table>\n",
       "</div>"
      ],
      "text/plain": [
       "                                 Job_id                             Job_title  \\\n",
       "0  Posted 29 mins ago | Job ID: 1731482  Society Management app (Android/IOS)   \n",
       "1  Posted 30 mins ago | Job ID: 1731479           GPRS tracking device/Server   \n",
       "2  Posted 33 mins ago | Job ID: 1731480        create + edit two certificates   \n",
       "3  Posted 45 mins ago | Job ID: 1731476                 2 WEBSITE DEVELOPMENT   \n",
       "4  Posted 47 mins ago | Job ID: 1731474                  Translator for texts   \n",
       "\n",
       "                                        Payment_type  \\\n",
       "0                           Fixed Price | Under $250   \n",
       "1                              Fixed Price or Hourly   \n",
       "2                           Fixed Price | Under $250   \n",
       "3                            Fixed Price | $1k-$2.5k   \n",
       "4  Hourly | $5 - $30 | 1-10 hrs/wk | 1-5 days |\\n...   \n",
       "\n",
       "                           Due_date  \\\n",
       "0    Send before: December 18, 2020   \n",
       "1    Send before: December 16, 2020   \n",
       "2    Send before: December 16, 2020   \n",
       "3    Send before: December 16, 2020   \n",
       "4    Send before: December 17, 2020   \n",
       "\n",
       "                                      List_of_quotes  \\\n",
       "0  Quotes (1)  ·  Premium Quotes (0)  ·  Invited ...   \n",
       "1  Quotes (1)  ·  Premium Quotes (0)  ·  Invited ...   \n",
       "2  Quotes (5)  ·  Premium Quotes (0)  ·  Invited ...   \n",
       "3  Quotes (5)  ·  Premium Quotes (0)  ·  Invited ...   \n",
       "4  Quotes (0)  ·  Premium Quotes (0)  ·  Invited ...   \n",
       "\n",
       "                                Category_subcategory  \\\n",
       "0  Programming & Development Apps & Mobile\\nAndro...   \n",
       "1  Programming & Development Programming & Softwa...   \n",
       "2  Design & Art Graphic Design\\nGraphic Design\\nI...   \n",
       "3  Programming & Development Web Development & De...   \n",
       "4  Writing & Translation Translation\\nGerman Tran...   \n",
       "\n",
       "                                                Tags Employer_name  \\\n",
       "0  Android Development\\nSoftware Development\\nApp...                 \n",
       "1                         Embedded Development\\nGPRS                 \n",
       "2  Graphic Design\\nIllustration\\nLayout Design\\nA...                 \n",
       "3  PHP\\nWordPress\\nDesign\\nPhotography\\nWeb Devel...                 \n",
       "4  German Translation\\nItalian Translation\\nSpani...                 \n",
       "\n",
       "                               Employer_link  \\\n",
       "0  https://www.guru.com/work/detail/1731482#   \n",
       "1  https://www.guru.com/work/detail/1731479#   \n",
       "2  https://www.guru.com/work/detail/1731480#   \n",
       "3  https://www.guru.com/work/detail/1731476#   \n",
       "4  https://www.guru.com/work/detail/1731474#   \n",
       "\n",
       "                                         Description  \n",
       "0  We are looking for mobile app developer (fulls...  \n",
       "1  I want to be able to track vehicles thus neede...  \n",
       "2  I need a graphics artist/photoshop/illustrator...  \n",
       "3  We need two website design\\n\\n1. This process ...  \n",
       "4  Italian mother tongue with English, German and...  "
      ]
     },
     "execution_count": 48,
     "metadata": {},
     "output_type": "execute_result"
    }
   ],
   "source": [
    "guru.head()"
   ]
  },
  {
   "cell_type": "markdown",
   "metadata": {},
   "source": [
    "# change here "
   ]
  },
  {
   "cell_type": "code",
   "execution_count": 50,
   "metadata": {},
   "outputs": [
    {
     "data": {
      "text/plain": [
       "(2959, 10)"
      ]
     },
     "execution_count": 50,
     "metadata": {},
     "output_type": "execute_result"
    }
   ],
   "source": [
    "guru.to_csv('guru1.csv',index=False)\n",
    "dataframe=pd.read_csv(r\"C:\\Users\\sak\\Documents\\guru1.csv\")\n",
    "dataframe.shape"
   ]
  },
  {
   "cell_type": "code",
   "execution_count": 60,
   "metadata": {},
   "outputs": [
    {
     "data": {
      "text/plain": [
       "'1'"
      ]
     },
     "execution_count": 60,
     "metadata": {},
     "output_type": "execute_result"
    }
   ],
   "source": [
    "dataframe[\"List_of_quotes\"][5].split('(')[1].split(')')[0]"
   ]
  },
  {
   "cell_type": "code",
   "execution_count": null,
   "metadata": {},
   "outputs": [],
   "source": []
  }
 ],
 "metadata": {
  "kernelspec": {
   "display_name": "Python 3",
   "language": "python",
   "name": "python3"
  },
  "language_info": {
   "codemirror_mode": {
    "name": "ipython",
    "version": 3
   },
   "file_extension": ".py",
   "mimetype": "text/x-python",
   "name": "python",
   "nbconvert_exporter": "python",
   "pygments_lexer": "ipython3",
   "version": "3.7.7"
  }
 },
 "nbformat": 4,
 "nbformat_minor": 4
}
