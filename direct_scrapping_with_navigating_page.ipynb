{
 "cells": [
  {
   "cell_type": "code",
   "execution_count": 73,
   "metadata": {},
   "outputs": [],
   "source": [
    "import time\n",
    "from selenium import webdriver\n",
    "import pandas as pd"
   ]
  },
  {
   "cell_type": "code",
   "execution_count": 74,
   "metadata": {},
   "outputs": [],
   "source": [
    "PATH = \"C:\\Program Files (x86)\\chromedriver.exe\""
   ]
  },
  {
   "cell_type": "code",
   "execution_count": 75,
   "metadata": {},
   "outputs": [],
   "source": [
    "driver = webdriver.Chrome(PATH)"
   ]
  },
  {
   "cell_type": "code",
   "execution_count": 76,
   "metadata": {},
   "outputs": [],
   "source": [
    "jobs={\"Roles_for_applicant\":[],\n",
    "     \"Companies_name\":[],\n",
    "     \"Location_of_job\":[],\n",
    "     \"Experience\":[],\n",
    "     \"Skills_set_required\":[],\n",
    "      \"Stats\":[],\n",
    "     \"Salary_offered\":[],\n",
    "     \"Description_about_job\":[],\n",
    "     \"Roles_in_details\":[],\n",
    "     \"Education\":[]}"
   ]
  },
  {
   "cell_type": "code",
   "execution_count": 77,
   "metadata": {},
   "outputs": [],
   "source": [
    "link_for_description = pd.read_csv(r\"C:\\Users\\sak\\Documents\\navgation_link_df\\navigation_link_df.csv\")"
   ]
  },
  {
   "cell_type": "markdown",
   "metadata": {},
   "source": [
    "# change Here "
   ]
  },
  {
   "cell_type": "code",
   "execution_count": 78,
   "metadata": {},
   "outputs": [
    {
     "data": {
      "text/html": [
       "<div>\n",
       "<style scoped>\n",
       "    .dataframe tbody tr th:only-of-type {\n",
       "        vertical-align: middle;\n",
       "    }\n",
       "\n",
       "    .dataframe tbody tr th {\n",
       "        vertical-align: top;\n",
       "    }\n",
       "\n",
       "    .dataframe thead th {\n",
       "        text-align: right;\n",
       "    }\n",
       "</style>\n",
       "<table border=\"1\" class=\"dataframe\">\n",
       "  <thead>\n",
       "    <tr style=\"text-align: right;\">\n",
       "      <th></th>\n",
       "      <th>link</th>\n",
       "    </tr>\n",
       "  </thead>\n",
       "  <tbody>\n",
       "    <tr>\n",
       "      <th>7936</th>\n",
       "      <td>https://www.naukri.com/job-listings-professor-...</td>\n",
       "    </tr>\n",
       "    <tr>\n",
       "      <th>7937</th>\n",
       "      <td>https://www.naukri.com/job-listings-workfusion...</td>\n",
       "    </tr>\n",
       "    <tr>\n",
       "      <th>7938</th>\n",
       "      <td>https://www.naukri.com/job-listings-itsm-speci...</td>\n",
       "    </tr>\n",
       "    <tr>\n",
       "      <th>7939</th>\n",
       "      <td>https://www.naukri.com/job-listings-manager-bu...</td>\n",
       "    </tr>\n",
       "    <tr>\n",
       "      <th>7940</th>\n",
       "      <td>https://www.naukri.com/job-listings-informatic...</td>\n",
       "    </tr>\n",
       "    <tr>\n",
       "      <th>...</th>\n",
       "      <td>...</td>\n",
       "    </tr>\n",
       "    <tr>\n",
       "      <th>14535</th>\n",
       "      <td>https://www.naukri.com/job-listings-ml-enginee...</td>\n",
       "    </tr>\n",
       "    <tr>\n",
       "      <th>14536</th>\n",
       "      <td>https://www.naukri.com/job-listings-iot-soluti...</td>\n",
       "    </tr>\n",
       "    <tr>\n",
       "      <th>14537</th>\n",
       "      <td>https://www.naukri.com/job-listings-product-ma...</td>\n",
       "    </tr>\n",
       "    <tr>\n",
       "      <th>14538</th>\n",
       "      <td>https://www.naukri.com/job-listings-profile-de...</td>\n",
       "    </tr>\n",
       "    <tr>\n",
       "      <th>14539</th>\n",
       "      <td>https://www.naukri.com/job-listings-assistant-...</td>\n",
       "    </tr>\n",
       "  </tbody>\n",
       "</table>\n",
       "<p>6604 rows × 1 columns</p>\n",
       "</div>"
      ],
      "text/plain": [
       "                                                    link\n",
       "7936   https://www.naukri.com/job-listings-professor-...\n",
       "7937   https://www.naukri.com/job-listings-workfusion...\n",
       "7938   https://www.naukri.com/job-listings-itsm-speci...\n",
       "7939   https://www.naukri.com/job-listings-manager-bu...\n",
       "7940   https://www.naukri.com/job-listings-informatic...\n",
       "...                                                  ...\n",
       "14535  https://www.naukri.com/job-listings-ml-enginee...\n",
       "14536  https://www.naukri.com/job-listings-iot-soluti...\n",
       "14537  https://www.naukri.com/job-listings-product-ma...\n",
       "14538  https://www.naukri.com/job-listings-profile-de...\n",
       "14539  https://www.naukri.com/job-listings-assistant-...\n",
       "\n",
       "[6604 rows x 1 columns]"
      ]
     },
     "execution_count": 78,
     "metadata": {},
     "output_type": "execute_result"
    }
   ],
   "source": [
    "df_7936=link_for_description.iloc[7936:]\n",
    "df_7936"
   ]
  },
  {
   "cell_type": "markdown",
   "metadata": {},
   "source": [
    "# change Here "
   ]
  },
  {
   "cell_type": "code",
   "execution_count": 79,
   "metadata": {},
   "outputs": [
    {
     "ename": "NoSuchElementException",
     "evalue": "Message: no such element: Unable to locate element: {\"method\":\"css selector\",\"selector\":\"div.key-skill\"}\n  (Session info: chrome=86.0.4240.193)\n",
     "output_type": "error",
     "traceback": [
      "\u001b[1;31m---------------------------------------------------------------------------\u001b[0m",
      "\u001b[1;31mNoSuchElementException\u001b[0m                    Traceback (most recent call last)",
      "\u001b[1;32m<ipython-input-79-bea06f4b148c>\u001b[0m in \u001b[0;36m<module>\u001b[1;34m\u001b[0m\n\u001b[0;32m     14\u001b[0m \u001b[1;33m\u001b[0m\u001b[0m\n\u001b[0;32m     15\u001b[0m     \u001b[1;32mfor\u001b[0m \u001b[0mdesc2\u001b[0m \u001b[1;32min\u001b[0m \u001b[0mlst2\u001b[0m\u001b[1;33m:\u001b[0m\u001b[1;33m\u001b[0m\u001b[1;33m\u001b[0m\u001b[0m\n\u001b[1;32m---> 16\u001b[1;33m         \u001b[0mskills\u001b[0m\u001b[1;33m=\u001b[0m\u001b[0mdesc2\u001b[0m\u001b[1;33m.\u001b[0m\u001b[0mfind_element_by_css_selector\u001b[0m\u001b[1;33m(\u001b[0m\u001b[1;34m\"div.key-skill\"\u001b[0m\u001b[1;33m)\u001b[0m\u001b[1;33m.\u001b[0m\u001b[0mtext\u001b[0m\u001b[1;33m\u001b[0m\u001b[1;33m\u001b[0m\u001b[0m\n\u001b[0m\u001b[0;32m     17\u001b[0m         \u001b[0mdescription\u001b[0m\u001b[1;33m=\u001b[0m\u001b[0mdesc2\u001b[0m\u001b[1;33m.\u001b[0m\u001b[0mfind_element_by_css_selector\u001b[0m\u001b[1;33m(\u001b[0m\u001b[1;34m\"div.dang-inner-html\"\u001b[0m\u001b[1;33m)\u001b[0m\u001b[1;33m.\u001b[0m\u001b[0mtext\u001b[0m\u001b[1;33m\u001b[0m\u001b[1;33m\u001b[0m\u001b[0m\n\u001b[0;32m     18\u001b[0m         \u001b[0mroles_in_detail\u001b[0m\u001b[1;33m=\u001b[0m\u001b[0mdesc2\u001b[0m\u001b[1;33m.\u001b[0m\u001b[0mfind_element_by_css_selector\u001b[0m\u001b[1;33m(\u001b[0m\u001b[1;34m\"div.other-details\"\u001b[0m\u001b[1;33m)\u001b[0m\u001b[1;33m.\u001b[0m\u001b[0mtext\u001b[0m\u001b[1;33m\u001b[0m\u001b[1;33m\u001b[0m\u001b[0m\n",
      "\u001b[1;32m~\\anaconda3\\lib\\site-packages\\selenium\\webdriver\\remote\\webelement.py\u001b[0m in \u001b[0;36mfind_element_by_css_selector\u001b[1;34m(self, css_selector)\u001b[0m\n\u001b[0;32m    428\u001b[0m             \u001b[0melement\u001b[0m \u001b[1;33m=\u001b[0m \u001b[0melement\u001b[0m\u001b[1;33m.\u001b[0m\u001b[0mfind_element_by_css_selector\u001b[0m\u001b[1;33m(\u001b[0m\u001b[1;34m'#foo'\u001b[0m\u001b[1;33m)\u001b[0m\u001b[1;33m\u001b[0m\u001b[1;33m\u001b[0m\u001b[0m\n\u001b[0;32m    429\u001b[0m         \"\"\"\n\u001b[1;32m--> 430\u001b[1;33m         \u001b[1;32mreturn\u001b[0m \u001b[0mself\u001b[0m\u001b[1;33m.\u001b[0m\u001b[0mfind_element\u001b[0m\u001b[1;33m(\u001b[0m\u001b[0mby\u001b[0m\u001b[1;33m=\u001b[0m\u001b[0mBy\u001b[0m\u001b[1;33m.\u001b[0m\u001b[0mCSS_SELECTOR\u001b[0m\u001b[1;33m,\u001b[0m \u001b[0mvalue\u001b[0m\u001b[1;33m=\u001b[0m\u001b[0mcss_selector\u001b[0m\u001b[1;33m)\u001b[0m\u001b[1;33m\u001b[0m\u001b[1;33m\u001b[0m\u001b[0m\n\u001b[0m\u001b[0;32m    431\u001b[0m \u001b[1;33m\u001b[0m\u001b[0m\n\u001b[0;32m    432\u001b[0m     \u001b[1;32mdef\u001b[0m \u001b[0mfind_elements_by_css_selector\u001b[0m\u001b[1;33m(\u001b[0m\u001b[0mself\u001b[0m\u001b[1;33m,\u001b[0m \u001b[0mcss_selector\u001b[0m\u001b[1;33m)\u001b[0m\u001b[1;33m:\u001b[0m\u001b[1;33m\u001b[0m\u001b[1;33m\u001b[0m\u001b[0m\n",
      "\u001b[1;32m~\\anaconda3\\lib\\site-packages\\selenium\\webdriver\\remote\\webelement.py\u001b[0m in \u001b[0;36mfind_element\u001b[1;34m(self, by, value)\u001b[0m\n\u001b[0;32m    657\u001b[0m \u001b[1;33m\u001b[0m\u001b[0m\n\u001b[0;32m    658\u001b[0m         return self._execute(Command.FIND_CHILD_ELEMENT,\n\u001b[1;32m--> 659\u001b[1;33m                              {\"using\": by, \"value\": value})['value']\n\u001b[0m\u001b[0;32m    660\u001b[0m \u001b[1;33m\u001b[0m\u001b[0m\n\u001b[0;32m    661\u001b[0m     \u001b[1;32mdef\u001b[0m \u001b[0mfind_elements\u001b[0m\u001b[1;33m(\u001b[0m\u001b[0mself\u001b[0m\u001b[1;33m,\u001b[0m \u001b[0mby\u001b[0m\u001b[1;33m=\u001b[0m\u001b[0mBy\u001b[0m\u001b[1;33m.\u001b[0m\u001b[0mID\u001b[0m\u001b[1;33m,\u001b[0m \u001b[0mvalue\u001b[0m\u001b[1;33m=\u001b[0m\u001b[1;32mNone\u001b[0m\u001b[1;33m)\u001b[0m\u001b[1;33m:\u001b[0m\u001b[1;33m\u001b[0m\u001b[1;33m\u001b[0m\u001b[0m\n",
      "\u001b[1;32m~\\anaconda3\\lib\\site-packages\\selenium\\webdriver\\remote\\webelement.py\u001b[0m in \u001b[0;36m_execute\u001b[1;34m(self, command, params)\u001b[0m\n\u001b[0;32m    631\u001b[0m             \u001b[0mparams\u001b[0m \u001b[1;33m=\u001b[0m \u001b[1;33m{\u001b[0m\u001b[1;33m}\u001b[0m\u001b[1;33m\u001b[0m\u001b[1;33m\u001b[0m\u001b[0m\n\u001b[0;32m    632\u001b[0m         \u001b[0mparams\u001b[0m\u001b[1;33m[\u001b[0m\u001b[1;34m'id'\u001b[0m\u001b[1;33m]\u001b[0m \u001b[1;33m=\u001b[0m \u001b[0mself\u001b[0m\u001b[1;33m.\u001b[0m\u001b[0m_id\u001b[0m\u001b[1;33m\u001b[0m\u001b[1;33m\u001b[0m\u001b[0m\n\u001b[1;32m--> 633\u001b[1;33m         \u001b[1;32mreturn\u001b[0m \u001b[0mself\u001b[0m\u001b[1;33m.\u001b[0m\u001b[0m_parent\u001b[0m\u001b[1;33m.\u001b[0m\u001b[0mexecute\u001b[0m\u001b[1;33m(\u001b[0m\u001b[0mcommand\u001b[0m\u001b[1;33m,\u001b[0m \u001b[0mparams\u001b[0m\u001b[1;33m)\u001b[0m\u001b[1;33m\u001b[0m\u001b[1;33m\u001b[0m\u001b[0m\n\u001b[0m\u001b[0;32m    634\u001b[0m \u001b[1;33m\u001b[0m\u001b[0m\n\u001b[0;32m    635\u001b[0m     \u001b[1;32mdef\u001b[0m \u001b[0mfind_element\u001b[0m\u001b[1;33m(\u001b[0m\u001b[0mself\u001b[0m\u001b[1;33m,\u001b[0m \u001b[0mby\u001b[0m\u001b[1;33m=\u001b[0m\u001b[0mBy\u001b[0m\u001b[1;33m.\u001b[0m\u001b[0mID\u001b[0m\u001b[1;33m,\u001b[0m \u001b[0mvalue\u001b[0m\u001b[1;33m=\u001b[0m\u001b[1;32mNone\u001b[0m\u001b[1;33m)\u001b[0m\u001b[1;33m:\u001b[0m\u001b[1;33m\u001b[0m\u001b[1;33m\u001b[0m\u001b[0m\n",
      "\u001b[1;32m~\\anaconda3\\lib\\site-packages\\selenium\\webdriver\\remote\\webdriver.py\u001b[0m in \u001b[0;36mexecute\u001b[1;34m(self, driver_command, params)\u001b[0m\n\u001b[0;32m    319\u001b[0m         \u001b[0mresponse\u001b[0m \u001b[1;33m=\u001b[0m \u001b[0mself\u001b[0m\u001b[1;33m.\u001b[0m\u001b[0mcommand_executor\u001b[0m\u001b[1;33m.\u001b[0m\u001b[0mexecute\u001b[0m\u001b[1;33m(\u001b[0m\u001b[0mdriver_command\u001b[0m\u001b[1;33m,\u001b[0m \u001b[0mparams\u001b[0m\u001b[1;33m)\u001b[0m\u001b[1;33m\u001b[0m\u001b[1;33m\u001b[0m\u001b[0m\n\u001b[0;32m    320\u001b[0m         \u001b[1;32mif\u001b[0m \u001b[0mresponse\u001b[0m\u001b[1;33m:\u001b[0m\u001b[1;33m\u001b[0m\u001b[1;33m\u001b[0m\u001b[0m\n\u001b[1;32m--> 321\u001b[1;33m             \u001b[0mself\u001b[0m\u001b[1;33m.\u001b[0m\u001b[0merror_handler\u001b[0m\u001b[1;33m.\u001b[0m\u001b[0mcheck_response\u001b[0m\u001b[1;33m(\u001b[0m\u001b[0mresponse\u001b[0m\u001b[1;33m)\u001b[0m\u001b[1;33m\u001b[0m\u001b[1;33m\u001b[0m\u001b[0m\n\u001b[0m\u001b[0;32m    322\u001b[0m             response['value'] = self._unwrap_value(\n\u001b[0;32m    323\u001b[0m                 response.get('value', None))\n",
      "\u001b[1;32m~\\anaconda3\\lib\\site-packages\\selenium\\webdriver\\remote\\errorhandler.py\u001b[0m in \u001b[0;36mcheck_response\u001b[1;34m(self, response)\u001b[0m\n\u001b[0;32m    240\u001b[0m                 \u001b[0malert_text\u001b[0m \u001b[1;33m=\u001b[0m \u001b[0mvalue\u001b[0m\u001b[1;33m[\u001b[0m\u001b[1;34m'alert'\u001b[0m\u001b[1;33m]\u001b[0m\u001b[1;33m.\u001b[0m\u001b[0mget\u001b[0m\u001b[1;33m(\u001b[0m\u001b[1;34m'text'\u001b[0m\u001b[1;33m)\u001b[0m\u001b[1;33m\u001b[0m\u001b[1;33m\u001b[0m\u001b[0m\n\u001b[0;32m    241\u001b[0m             \u001b[1;32mraise\u001b[0m \u001b[0mexception_class\u001b[0m\u001b[1;33m(\u001b[0m\u001b[0mmessage\u001b[0m\u001b[1;33m,\u001b[0m \u001b[0mscreen\u001b[0m\u001b[1;33m,\u001b[0m \u001b[0mstacktrace\u001b[0m\u001b[1;33m,\u001b[0m \u001b[0malert_text\u001b[0m\u001b[1;33m)\u001b[0m\u001b[1;33m\u001b[0m\u001b[1;33m\u001b[0m\u001b[0m\n\u001b[1;32m--> 242\u001b[1;33m         \u001b[1;32mraise\u001b[0m \u001b[0mexception_class\u001b[0m\u001b[1;33m(\u001b[0m\u001b[0mmessage\u001b[0m\u001b[1;33m,\u001b[0m \u001b[0mscreen\u001b[0m\u001b[1;33m,\u001b[0m \u001b[0mstacktrace\u001b[0m\u001b[1;33m)\u001b[0m\u001b[1;33m\u001b[0m\u001b[1;33m\u001b[0m\u001b[0m\n\u001b[0m\u001b[0;32m    243\u001b[0m \u001b[1;33m\u001b[0m\u001b[0m\n\u001b[0;32m    244\u001b[0m     \u001b[1;32mdef\u001b[0m \u001b[0m_value_or_default\u001b[0m\u001b[1;33m(\u001b[0m\u001b[0mself\u001b[0m\u001b[1;33m,\u001b[0m \u001b[0mobj\u001b[0m\u001b[1;33m,\u001b[0m \u001b[0mkey\u001b[0m\u001b[1;33m,\u001b[0m \u001b[0mdefault\u001b[0m\u001b[1;33m)\u001b[0m\u001b[1;33m:\u001b[0m\u001b[1;33m\u001b[0m\u001b[1;33m\u001b[0m\u001b[0m\n",
      "\u001b[1;31mNoSuchElementException\u001b[0m: Message: no such element: Unable to locate element: {\"method\":\"css selector\",\"selector\":\"div.key-skill\"}\n  (Session info: chrome=86.0.4240.193)\n"
     ]
    }
   ],
   "source": [
    "for lnk in df_7936['link']:\n",
    "    driver.get(lnk)\n",
    "    time.sleep(3)\n",
    "    lst1=driver.find_elements_by_css_selector(\"section.jd-header\")\n",
    "    lst2=driver.find_elements_by_css_selector(\"section.job-desc\")\n",
    "\n",
    "    for desc1 in lst1:\n",
    "        roles=desc1.find_element_by_css_selector(\"div.jd-top-head\").text\n",
    "        company_name=desc1.find_element_by_css_selector(\"div.jd-header-comp-name\").text\n",
    "        exp=desc1.find_element_by_css_selector(\"div.exp\").text\n",
    "        location_of_job=desc1.find_element_by_css_selector(\"div.loc\").text\n",
    "        salary=desc1.find_element_by_css_selector(\"div.salary\").text\n",
    "        stats=desc1.find_element_by_css_selector(\"div.jd-stats\").text\n",
    "        \n",
    "    for desc2 in lst2:\n",
    "        skills=desc2.find_element_by_css_selector(\"div.key-skill\").text\n",
    "        description=desc2.find_element_by_css_selector(\"div.dang-inner-html\").text\n",
    "        roles_in_detail=desc2.find_element_by_css_selector(\"div.other-details\").text\n",
    "        education=desc2.find_element_by_css_selector(\"div.education\").text\n",
    "    jobs[\"Roles_for_applicant\"].append(roles)\n",
    "    jobs[\"Companies_name\"].append(company_name)\n",
    "    jobs[\"Location_of_job\"].append(location_of_job)\n",
    "    jobs[\"Experience\"].append(exp)\n",
    "    jobs[\"Skills_set_required\"].append(skills)\n",
    "    jobs[\"Salary_offered\"].append(salary)\n",
    "    jobs[\"Stats\"].append(stats)\n",
    "    jobs[\"Description_about_job\"].append(description)\n",
    "    jobs[\"Roles_in_details\"].append(roles_in_detail)\n",
    "    jobs[\"Education\"].append(education)\n",
    "    "
   ]
  },
  {
   "cell_type": "code",
   "execution_count": 56,
   "metadata": {},
   "outputs": [
    {
     "data": {
      "text/plain": [
       "(211, 10)"
      ]
     },
     "execution_count": 56,
     "metadata": {},
     "output_type": "execute_result"
    }
   ],
   "source": [
    "df=pd.DataFrame(jobs)\n",
    "df.shape"
   ]
  },
  {
   "cell_type": "markdown",
   "metadata": {},
   "source": [
    "# change here"
   ]
  },
  {
   "cell_type": "code",
   "execution_count": 57,
   "metadata": {},
   "outputs": [],
   "source": [
    "df.to_csv('df11.csv',index=False)"
   ]
  },
  {
   "cell_type": "markdown",
   "metadata": {},
   "source": [
    "# change here"
   ]
  },
  {
   "cell_type": "code",
   "execution_count": 58,
   "metadata": {},
   "outputs": [
    {
     "data": {
      "text/plain": [
       "(211, 10)"
      ]
     },
     "execution_count": 58,
     "metadata": {},
     "output_type": "execute_result"
    }
   ],
   "source": [
    "data=pd.read_csv(r\"C:\\Users\\sak\\Documents\\df11.csv\")\n",
    "data.shape"
   ]
  },
  {
   "cell_type": "markdown",
   "metadata": {},
   "source": [
    "# at the last"
   ]
  },
  {
   "cell_type": "code",
   "execution_count": null,
   "metadata": {},
   "outputs": [],
   "source": [
    "'''df1=pd.read_csv(r\"C:\\Users\\sak\\Documents\\df1.csv\")\n",
    "df2=pd.read_csv(r\"C:\\Users\\sak\\Documents\\df2.csv\")\n",
    "df3=pd.read_csv(r\"C:\\Users\\sak\\Documents\\df3.csv\")\n",
    "df4=pd.read_csv(r\"C:\\Users\\sak\\Documents\\df4.csv\")\n",
    "df5=pd.read_csv(r\"C:\\Users\\sak\\Documents\\df5.csv\")\n",
    "df6=pd.read_csv(r\"C:\\Users\\sak\\Documents\\df6.csv\")\n",
    "df7=pd.read_csv(r\"C:\\Users\\sak\\Documents\\df7.csv\")\n",
    "\n",
    "frames=[df1,df2,df3,df4,df5,df6,df7]\n",
    "data_science_job_df=pd.concat(frames)'''"
   ]
  },
  {
   "cell_type": "code",
   "execution_count": null,
   "metadata": {},
   "outputs": [],
   "source": [
    "'''data_science_job_df.to_csv('data_science_job_df.csv',index=False)'''"
   ]
  },
  {
   "cell_type": "code",
   "execution_count": null,
   "metadata": {},
   "outputs": [],
   "source": []
  },
  {
   "cell_type": "code",
   "execution_count": null,
   "metadata": {},
   "outputs": [],
   "source": []
  },
  {
   "cell_type": "code",
   "execution_count": null,
   "metadata": {},
   "outputs": [],
   "source": []
  },
  {
   "cell_type": "code",
   "execution_count": null,
   "metadata": {},
   "outputs": [],
   "source": []
  },
  {
   "cell_type": "code",
   "execution_count": null,
   "metadata": {},
   "outputs": [],
   "source": []
  },
  {
   "cell_type": "code",
   "execution_count": null,
   "metadata": {},
   "outputs": [],
   "source": []
  },
  {
   "cell_type": "code",
   "execution_count": null,
   "metadata": {},
   "outputs": [],
   "source": []
  },
  {
   "cell_type": "code",
   "execution_count": null,
   "metadata": {},
   "outputs": [],
   "source": []
  },
  {
   "cell_type": "code",
   "execution_count": null,
   "metadata": {},
   "outputs": [],
   "source": []
  },
  {
   "cell_type": "code",
   "execution_count": null,
   "metadata": {},
   "outputs": [],
   "source": []
  },
  {
   "cell_type": "code",
   "execution_count": null,
   "metadata": {},
   "outputs": [],
   "source": []
  },
  {
   "cell_type": "code",
   "execution_count": null,
   "metadata": {},
   "outputs": [],
   "source": []
  },
  {
   "cell_type": "code",
   "execution_count": 27,
   "metadata": {},
   "outputs": [
    {
     "data": {
      "text/html": [
       "<div>\n",
       "<style scoped>\n",
       "    .dataframe tbody tr th:only-of-type {\n",
       "        vertical-align: middle;\n",
       "    }\n",
       "\n",
       "    .dataframe tbody tr th {\n",
       "        vertical-align: top;\n",
       "    }\n",
       "\n",
       "    .dataframe thead th {\n",
       "        text-align: right;\n",
       "    }\n",
       "</style>\n",
       "<table border=\"1\" class=\"dataframe\">\n",
       "  <thead>\n",
       "    <tr style=\"text-align: right;\">\n",
       "      <th></th>\n",
       "      <th>Roles_for_applicant</th>\n",
       "      <th>Companies_name</th>\n",
       "      <th>Location_of_job</th>\n",
       "      <th>Experience</th>\n",
       "      <th>Skills_set_required</th>\n",
       "      <th>Stats</th>\n",
       "      <th>Salary_offered</th>\n",
       "      <th>Description_about_job</th>\n",
       "      <th>Roles_in_details</th>\n",
       "      <th>Education</th>\n",
       "    </tr>\n",
       "  </thead>\n",
       "  <tbody>\n",
       "    <tr>\n",
       "      <th>0</th>\n",
       "      <td>Immediate opening For Data Scientist/Data Anal...</td>\n",
       "      <td>CAIA-Center For Artificial Intelligence &amp; Adva...</td>\n",
       "      <td>Chennai, Pune, Bengaluru, Hyderabad</td>\n",
       "      <td>0 - 3 years</td>\n",
       "      <td>Key Skills\\nBusiness IntelligenceArtificial In...</td>\n",
       "      <td>Posted: 16 days agoOpenings: 25Job Applicants:...</td>\n",
       "      <td>₹ 3,50,000 - 4,50,000 P.A.</td>\n",
       "      <td>Dear Candidate\\n\\nSchedule a Telephonic Interv...</td>\n",
       "      <td>RoleBusiness Analyst\\nIndustry TypeBPO, Call C...</td>\n",
       "      <td>Education\\nUG :B.Com in Any Specialization, B....</td>\n",
       "    </tr>\n",
       "    <tr>\n",
       "      <th>1</th>\n",
       "      <td>Data Scientist\\nIBM India Pvt. Limited4.0(8564...</td>\n",
       "      <td>IBM India Pvt. Limited4.0(8564 Reviews)</td>\n",
       "      <td>India</td>\n",
       "      <td>0 - 5 years</td>\n",
       "      <td>Key Skills\\nNLPArtificial IntelligenceData Sci...</td>\n",
       "      <td>Posted: 5 days agoJob Applicants: 601</td>\n",
       "      <td>Not Disclosed</td>\n",
       "      <td>Roles and Responsibilities\\nIntroduction\\nThe ...</td>\n",
       "      <td>RoleData Analyst\\nIndustry TypeIT-Software, So...</td>\n",
       "      <td>Education\\nUG :Any Graduate in Any Specializat...</td>\n",
       "    </tr>\n",
       "    <tr>\n",
       "      <th>2</th>\n",
       "      <td>Principal Data Scientist - Machine/Deep Learni...</td>\n",
       "      <td>Fidius advisory</td>\n",
       "      <td>Bengaluru</td>\n",
       "      <td>8 - 13 years</td>\n",
       "      <td>Key Skills\\nTensorflowNLPPyTorchdata sciencepr...</td>\n",
       "      <td>Posted: 3 days agoJob Applicants: 908</td>\n",
       "      <td>Not Disclosed</td>\n",
       "      <td>Job Description :\\n- We are looking for a rese...</td>\n",
       "      <td>RoleAnalytics Manager\\nIndustry TypeIT-Softwar...</td>\n",
       "      <td>Education\\nUG :Any Graduate in Any Specializat...</td>\n",
       "    </tr>\n",
       "    <tr>\n",
       "      <th>3</th>\n",
       "      <td>Data Scientist - Image Recognition/Machine Lea...</td>\n",
       "      <td>CarbyneTech India3.1(7 Reviews)</td>\n",
       "      <td>Hyderabad</td>\n",
       "      <td>5 - 10 years</td>\n",
       "      <td>Key Skills\\nNLPData ScientistTime Series Analy...</td>\n",
       "      <td>Posted: 10 days agoJob Applicants: 287</td>\n",
       "      <td>Not Disclosed</td>\n",
       "      <td>Roles and Responsibilities\\nJob Description :\\...</td>\n",
       "      <td>RoleDatabase Architect/Designer\\nIndustry Type...</td>\n",
       "      <td>Education\\nUG :Any Graduate in Any Specializat...</td>\n",
       "    </tr>\n",
       "    <tr>\n",
       "      <th>4</th>\n",
       "      <td>Data Scientist - Image Processing/Machine Lear...</td>\n",
       "      <td>CarbyneTech India3.1(7 Reviews)</td>\n",
       "      <td>Hyderabad</td>\n",
       "      <td>6 - 11 years</td>\n",
       "      <td>Key Skills\\nPredictive ModelingData ScienceDat...</td>\n",
       "      <td>Posted: 9 days agoJob Applicants: 163</td>\n",
       "      <td>Not Disclosed</td>\n",
       "      <td>Roles and Responsibilities\\nUnderstand busines...</td>\n",
       "      <td>RoleData Analyst\\nIndustry TypeAccounting, Fin...</td>\n",
       "      <td>Education\\nUG :B.Tech/B.E. in Computers, BCA i...</td>\n",
       "    </tr>\n",
       "  </tbody>\n",
       "</table>\n",
       "</div>"
      ],
      "text/plain": [
       "                                 Roles_for_applicant  \\\n",
       "0  Immediate opening For Data Scientist/Data Anal...   \n",
       "1  Data Scientist\\nIBM India Pvt. Limited4.0(8564...   \n",
       "2  Principal Data Scientist - Machine/Deep Learni...   \n",
       "3  Data Scientist - Image Recognition/Machine Lea...   \n",
       "4  Data Scientist - Image Processing/Machine Lear...   \n",
       "\n",
       "                                      Companies_name  \\\n",
       "0  CAIA-Center For Artificial Intelligence & Adva...   \n",
       "1            IBM India Pvt. Limited4.0(8564 Reviews)   \n",
       "2                                    Fidius advisory   \n",
       "3                    CarbyneTech India3.1(7 Reviews)   \n",
       "4                    CarbyneTech India3.1(7 Reviews)   \n",
       "\n",
       "                       Location_of_job    Experience  \\\n",
       "0  Chennai, Pune, Bengaluru, Hyderabad   0 - 3 years   \n",
       "1                                India   0 - 5 years   \n",
       "2                            Bengaluru  8 - 13 years   \n",
       "3                            Hyderabad  5 - 10 years   \n",
       "4                            Hyderabad  6 - 11 years   \n",
       "\n",
       "                                 Skills_set_required  \\\n",
       "0  Key Skills\\nBusiness IntelligenceArtificial In...   \n",
       "1  Key Skills\\nNLPArtificial IntelligenceData Sci...   \n",
       "2  Key Skills\\nTensorflowNLPPyTorchdata sciencepr...   \n",
       "3  Key Skills\\nNLPData ScientistTime Series Analy...   \n",
       "4  Key Skills\\nPredictive ModelingData ScienceDat...   \n",
       "\n",
       "                                               Stats  \\\n",
       "0  Posted: 16 days agoOpenings: 25Job Applicants:...   \n",
       "1              Posted: 5 days agoJob Applicants: 601   \n",
       "2              Posted: 3 days agoJob Applicants: 908   \n",
       "3             Posted: 10 days agoJob Applicants: 287   \n",
       "4              Posted: 9 days agoJob Applicants: 163   \n",
       "\n",
       "               Salary_offered  \\\n",
       "0  ₹ 3,50,000 - 4,50,000 P.A.   \n",
       "1               Not Disclosed   \n",
       "2               Not Disclosed   \n",
       "3               Not Disclosed   \n",
       "4               Not Disclosed   \n",
       "\n",
       "                               Description_about_job  \\\n",
       "0  Dear Candidate\\n\\nSchedule a Telephonic Interv...   \n",
       "1  Roles and Responsibilities\\nIntroduction\\nThe ...   \n",
       "2  Job Description :\\n- We are looking for a rese...   \n",
       "3  Roles and Responsibilities\\nJob Description :\\...   \n",
       "4  Roles and Responsibilities\\nUnderstand busines...   \n",
       "\n",
       "                                    Roles_in_details  \\\n",
       "0  RoleBusiness Analyst\\nIndustry TypeBPO, Call C...   \n",
       "1  RoleData Analyst\\nIndustry TypeIT-Software, So...   \n",
       "2  RoleAnalytics Manager\\nIndustry TypeIT-Softwar...   \n",
       "3  RoleDatabase Architect/Designer\\nIndustry Type...   \n",
       "4  RoleData Analyst\\nIndustry TypeAccounting, Fin...   \n",
       "\n",
       "                                           Education  \n",
       "0  Education\\nUG :B.Com in Any Specialization, B....  \n",
       "1  Education\\nUG :Any Graduate in Any Specializat...  \n",
       "2  Education\\nUG :Any Graduate in Any Specializat...  \n",
       "3  Education\\nUG :Any Graduate in Any Specializat...  \n",
       "4  Education\\nUG :B.Tech/B.E. in Computers, BCA i...  "
      ]
     },
     "execution_count": 27,
     "metadata": {},
     "output_type": "execute_result"
    }
   ],
   "source": [
    "df=pd.DataFrame(jobs)\n",
    "df.head()"
   ]
  },
  {
   "cell_type": "code",
   "execution_count": 32,
   "metadata": {},
   "outputs": [
    {
     "data": {
      "text/plain": [
       "'Indegene is a specialized healthcare solutions company with a unique blend of analytics and state-of-the-art technology capabilities. Our aim to seamlessly integrate analytics, technology, operations, and medical expertise to solve complex industry challenges.\\nAs we continue to grow our advanced analytics footprint, we are looking to hire a Data Scientist who can bring cutting edge analytical techniques/solutions to our commercial client offerings.\\nWe are looking for an experienced Data Scientist with 6+ years of relevant experience who can leverage diverse and large datasets to solve advanced healthcare analytics problems like predictive customer scoring, patient analytics, predictive modelling, attribution analytics, customer journey modeling, recommender engines and next best action analytics.\\n\\nJob Role:\\nApply state-of-the-art advanced analytics and quantitative tools and modeling techniques in order to derive business insights and solve complex business problems\\nUse best-in-class technologies and algorithms to solve the business problems\\nSupport, review and conduct complex analytics processes and data integration on clients’ internal and external data\\nHandle multiple projects at any point in time, ensuring that progress is made across all the projects, with appropriate prioritization and workload distribution within the team\\nCreate value for clients and client service teams by understanding their needs and translating them into optimal desired analytical services\\nDevelop and disseminate innovative analytical techniques, processes and tools, that can be leveraged across projects / engagements\\nManage a team of Junior Data Scientists, Data Analyst and Partner with data analysts/managers and client service team members to ensure timely delivery of results and recommendations\\nSupport business development activities by building new capabilities and participating in client meetings as a subject matter expert\\nProvide thought leadership by contributing to whitepapers and articles at the BU and organization level\\nMonitor industry trends and implement best practices to improve in-house capabilities\\nDevelop approach for complex analyses and gain consensus with stakeholders internally and externally\\nMeaningfully communicate insights and information to a broad group of stakeholders through exceptional oral and written communication\\nDesired profile:\\n6-10 years of relevant, technical experience in AI, machine learning, predictive modeling, advanced analytics and statistics modeling.\\nExperience in pharma commercial analytics is a must have, other industry experience a plus\\nShould have experience in leading / guiding small to large teams\\nExcellent understanding of machine learning techniques and algorithms, such as XGBoost, Random Forest, Linear, Logistic Regression, k-NN, Naive Bayes, SVM, Decision Trees, Neural Nets, Transfer Learning, NLP etc.\\nProficiency in machine learning and statistical data analysis using Python and Spark\\nProficiency in Big Data handling and querying\\nPast experience in building AI/ML products focused in delivering marketing analytics solutions is preferrable\\nExperience in areas of behavioral modeling customer segmentation, impact assessment, attribution analytics, collaborative filtering, marketing mix modeling, recommender engines and natural language processing is highly prefrred\\nExceptional analytical skills with demonstrated experience in extracting valuable insights from complex data-sets\\nExperienced in handling large datasets, both structured and unstructured, preferably in the life sciences / pharmaceutical domain\\nBehavioral Skills Required:\\nVery strong problem-solving skills, and quantitative/analytical thinking capabilities\\nConsultative problem-solving approach, customer orientation, and strong collaboration skills\\nWilling to work in a highly demanding and result-oriented team environment\\nExcellent communication skills; able to grasp and communicate complex ideas clearly\\nAbility to translate data and information into actionable insights and business recommendations\\nUnderstanding of the market dynamics of the pharmaceutical industry'"
      ]
     },
     "execution_count": 32,
     "metadata": {},
     "output_type": "execute_result"
    }
   ],
   "source": [
    "jobs[\"Description_about_job\"][20]"
   ]
  },
  {
   "cell_type": "code",
   "execution_count": null,
   "metadata": {},
   "outputs": [],
   "source": []
  }
 ],
 "metadata": {
  "kernelspec": {
   "display_name": "Python 3",
   "language": "python",
   "name": "python3"
  },
  "language_info": {
   "codemirror_mode": {
    "name": "ipython",
    "version": 3
   },
   "file_extension": ".py",
   "mimetype": "text/x-python",
   "name": "python",
   "nbconvert_exporter": "python",
   "pygments_lexer": "ipython3",
   "version": "3.7.7"
  }
 },
 "nbformat": 4,
 "nbformat_minor": 4
}
